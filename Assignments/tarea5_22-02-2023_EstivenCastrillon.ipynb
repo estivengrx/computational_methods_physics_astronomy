{
  "cells": [
    {
      "cell_type": "markdown",
      "metadata": {},
      "source": [
        "<div align=\"left\">\n",
        "<img src=\"https://www.udea.edu.co/wps/wcm/connect/udea/99fc43e7-7a64-45bd-97fc-96639b70813d/logosimbolo-vertical.png?MOD=AJPERES&CVID=ljeLvHr\" width=\"100\" height=\"130\" align=\"left\" style=\"margin-right: 50px\">\n",
        "</div>\n",
        "\n",
        "# Computational Methods homeworks\n",
        "\n",
        "Homework 5\n",
        "\n",
        "<div align=\"right\" style=\"width: 99.5%;\">\n",
        "Estiven Castrillon\n",
        "<!-- </div> -->\n",
        "\n",
        "<div style=\"width: 99.5%; border-bottom: 3px solid white;\"></div>"
      ]
    },
    {
      "cell_type": "markdown",
      "metadata": {
        "id": "kcGQP1SakiTA"
      },
      "source": [
        "# Tarea\n",
        "\n",
        "**1** Crea una clase llamada Rectangulo con dos puntos (inicial y final) que formarán la diagonal del rectángulo.\n",
        "\n",
        "Añade un método constructor para crear ambos puntos fácilmente, si no se envían se crearán dos puntos en el origen por defecto.\n",
        "\n",
        "Añade al rectángulo un método llamado base que muestre la base.\n",
        "\n",
        "Añade al rectángulo un método llamado altura que muestre la altura.\n",
        "\n",
        "Añade al rectángulo un método llamado area que muestre el area."
      ]
    },
    {
      "cell_type": "code",
      "execution_count": 22,
      "metadata": {
        "colab": {
          "base_uri": "https://localhost:8080/"
        },
        "id": "HmbR_QfCkb3V",
        "outputId": "7b87f982-309e-4885-b036-fcde0c17e587"
      },
      "outputs": [
        {
          "name": "stdout",
          "output_type": "stream",
          "text": [
            "La medida de la base del rectángulo es: 2\n",
            "La medida de la altura del rectángulo es: 2\n",
            "El área del rectángulo es de: 4\n"
          ]
        }
      ],
      "source": [
        "class Rectangulo:\n",
        "    def __init__(self, punto_inicial=[0, 0], punto_final=[0, 0]):\n",
        "        self.punto_inicial = punto_inicial\n",
        "        self.punto_final = punto_final\n",
        "\n",
        "    def base(self):\n",
        "        base = abs(self.punto_inicial[0] - self.punto_final[0])\n",
        "\n",
        "        return f'La medida de la base del rectángulo es: {base}', base\n",
        "\n",
        "    def altura(self):\n",
        "        altura = abs(self.punto_inicial[1] - self.punto_final[1])\n",
        "        return f'La medida de la altura del rectángulo es: {altura}', altura\n",
        "\n",
        "    def area(self):\n",
        "        area = self.altura()[1] * self.base()[1]\n",
        "        return f'El área del rectángulo es de: {area}', area\n",
        "\n",
        "rectangulo1 = Rectangulo([1, 2], [3, 4])\n",
        "print(rectangulo1.base()[0])\n",
        "print(rectangulo1.altura()[0])\n",
        "print(rectangulo1.area()[0])"
      ]
    }
  ],
  "metadata": {
    "colab": {
      "provenance": []
    },
    "kernelspec": {
      "display_name": "Python 3",
      "name": "python3"
    },
    "language_info": {
      "name": "python"
    }
  },
  "nbformat": 4,
  "nbformat_minor": 0
}
