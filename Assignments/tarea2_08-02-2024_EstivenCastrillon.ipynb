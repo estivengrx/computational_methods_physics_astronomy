{
  "cells": [
    {
      "cell_type": "markdown",
      "metadata": {},
      "source": [
        "<div align=\"left\">\n",
        "<img src=\"https://www.udea.edu.co/wps/wcm/connect/udea/99fc43e7-7a64-45bd-97fc-96639b70813d/logosimbolo-vertical.png?MOD=AJPERES&CVID=ljeLvHr\" width=\"100\" height=\"130\" align=\"left\" style=\"margin-right: 50px\">\n",
        "</div>\n",
        "\n",
        "# Computational Methods homeworks\n",
        "\n",
        "Homework 2\n",
        "\n",
        "<div align=\"right\" style=\"width: 99.5%;\">\n",
        "Estiven Castrillon\n",
        "<!-- </div> -->\n",
        "\n",
        "<div style=\"width: 99.5%; border-bottom: 3px solid white;\"></div>"
      ]
    },
    {
      "cell_type": "markdown",
      "metadata": {
        "id": "yL9bRXbJj-xq"
      },
      "source": [
        "### Tarea 2:\n",
        "\n",
        "1. Cree una funcion para descomponer un número en unidades, decenas, centenas, miles... tal que por ejemplo si se introduce el número 3647:\n",
        "- 3000\n",
        "- 0600\n",
        "- 0040\n",
        "- 0007"
      ]
    },
    {
      "cell_type": "code",
      "execution_count": null,
      "metadata": {
        "colab": {
          "base_uri": "https://localhost:8080/"
        },
        "id": "0AO2wg_4j-xv",
        "outputId": "7c2521ba-bb88-4397-9545-fca8fc9f039c"
      },
      "outputs": [
        {
          "name": "stdout",
          "output_type": "stream",
          "text": [
            "Resultado función descomponer:\n",
            "300000\n",
            "060000\n",
            "008000\n",
            "000900\n",
            "000080\n",
            "000002\n",
            "\n",
            "Resultado función descomponer_nombre:\n",
            "unidades: 2\n",
            "decenas: 8\n",
            "centenas: 9\n",
            "miles: 8\n",
            "decenas_de_miles: 6\n",
            "centenas_de_miles: 3\n"
          ]
        }
      ],
      "source": [
        "# Cadena a descomponer\n",
        "cadena = '368982'\n",
        "\n",
        "def descomponer(cadena: int) -> None:\n",
        "    # Recorremos cada carácter en la cadena\n",
        "    for i in range(len(cadena)):\n",
        "        cadena_resultado = '0' * len(cadena) #cadena de ceros igual a la longitud de la cadena original\n",
        "        cadena_resultado = cadena_resultado[:i] + cadena[i] + cadena_resultado[i+1:] #remplazamos el i-ésimo cero con el i-ésimo carácter de la cadena original\n",
        "        print(cadena_resultado)\n",
        "\n",
        "print('Resultado función descomponer:')\n",
        "descomponer(cadena)\n",
        "\n",
        "nombres = [\"unidades\", \"decenas\", \"centenas\",\n",
        "       \"miles\", \"decenas_de_miles\", \"centenas_de_miles\",\n",
        "       \"millones\", \"decenas_de_millones\", \"centenas_de_millones\",\n",
        "       \"miles_de_millones\", \"billones\", \"decenas_de_billones\", \"centenas_de_billones\",\n",
        "       \"billones_de_billones\", \"decenas_de_billones_de_billones\", \"centenas_de_billones_de_billones\",\n",
        "       \"trillones\", \"decenas_de_trillones\", \"centenas_de_trillones\",\n",
        "       \"miles_de_trillones\", \"decenas_de_miles_de_trillones\", \"centenas_de_miles_de_trillones\",\n",
        "       \"cuatrillones\"] # Lista generada con GPT :)\n",
        "\n",
        "def descomponer_nombre(cadena:int) -> str:\n",
        "    if len(cadena) < len(nombres):\n",
        "        for i in range(len(cadena)):\n",
        "            unidad_a_llamar = cadena[-i-1] #seleccionar valor\n",
        "            nombre_unidad = nombres[i] #seleccionar nombre\n",
        "            print(f'{nombre_unidad}: {unidad_a_llamar}') #print valor y nombre\n",
        "    else:\n",
        "        print('La cadena es mayor que la lista de nombres.')\n",
        "\n",
        "print('\\nResultado función descomponer_nombre:')\n",
        "descomponer_nombre(cadena)"
      ]
    }
  ],
  "metadata": {
    "colab": {
      "provenance": []
    },
    "kernelspec": {
      "display_name": "Python 3",
      "language": "python",
      "name": "python3"
    },
    "language_info": {
      "codemirror_mode": {
        "name": "ipython",
        "version": 3
      },
      "file_extension": ".py",
      "mimetype": "text/x-python",
      "name": "python",
      "nbconvert_exporter": "python",
      "pygments_lexer": "ipython3",
      "version": "3.11.2"
    }
  },
  "nbformat": 4,
  "nbformat_minor": 0
}
