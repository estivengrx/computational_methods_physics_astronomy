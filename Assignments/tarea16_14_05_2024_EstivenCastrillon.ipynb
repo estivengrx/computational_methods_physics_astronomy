{
  "cells": [
    {
      "cell_type": "markdown",
      "metadata": {
        "id": "sGtsO7wy6ZCI"
      },
      "source": [
        "## Tarea\n",
        "\n",
        "Considere la ecuación diferencial con valor inicial:\n",
        "$$PVI=\\left\\lbrace\\begin{array}{c} y^\\prime=sin(x-y²) \\\\ y(0)=1 \\end{array}\\right.$$\n",
        "\n",
        "Encuentre la solución con simpy y con el método de Euler y grafique."
      ]
    },
    {
      "cell_type": "code",
      "execution_count": 1,
      "metadata": {
        "id": "mZlbM6aC6ilm"
      },
      "outputs": [],
      "source": [
        "import matplotlib.pyplot as plt\n",
        "\n",
        "import numpy as np\n",
        "import sympy as sym\n",
        "\n",
        "#notacion punto\n",
        "import sympy.physics.mechanics as mech\n",
        "mech.init_vprinting()"
      ]
    },
    {
      "cell_type": "code",
      "execution_count": 2,
      "metadata": {
        "id": "nAplwcvz6SGO"
      },
      "outputs": [],
      "source": [
        "def euler(f,x0,xn,y0,n):\n",
        "\n",
        "    h=(xn-x0)/n\n",
        "    x0_l=[]\n",
        "    yn_l=[]\n",
        "\n",
        "    for i in range(n):\n",
        "        slope=f(x0,y0)\n",
        "        yn=y0+h*slope\n",
        "        y0=yn\n",
        "        x0=x0+h\n",
        "        x0_l.append(x0)\n",
        "        yn_l.append(yn)\n",
        "\n",
        "    return yn_l"
      ]
    },
    {
      "cell_type": "code",
      "execution_count": 3,
      "metadata": {
        "colab": {
          "base_uri": "https://localhost:8080/",
          "height": 339
        },
        "id": "cn5USBD97RkX",
        "outputId": "6c1d4f6d-a19b-4375-f633-b6d6d512569b"
      },
      "outputs": [
        {
          "ename": "NotImplementedError",
          "evalue": "The given ODE -sin(x - y(x)**2) + Derivative(y(x), x) cannot be solved by the lie group method",
          "output_type": "error",
          "traceback": [
            "\u001b[1;31m---------------------------------------------------------------------------\u001b[0m",
            "\u001b[1;31mNotImplementedError\u001b[0m                       Traceback (most recent call last)",
            "Cell \u001b[1;32mIn[3], line 9\u001b[0m\n\u001b[0;32m      7\u001b[0m ecuacion_diferencial \u001b[38;5;241m=\u001b[39m sym\u001b[38;5;241m.\u001b[39mEq(lhs, rhs)\n\u001b[0;32m      8\u001b[0m condiciones_iniciales \u001b[38;5;241m=\u001b[39m {y\u001b[38;5;241m.\u001b[39msubs(x, \u001b[38;5;241m0\u001b[39m): \u001b[38;5;241m1\u001b[39m}\n\u001b[1;32m----> 9\u001b[0m solucion \u001b[38;5;241m=\u001b[39m \u001b[43msym\u001b[49m\u001b[38;5;241;43m.\u001b[39;49m\u001b[43mdsolve\u001b[49m\u001b[43m(\u001b[49m\u001b[43mecuacion_diferencial\u001b[49m\u001b[43m,\u001b[49m\u001b[43m \u001b[49m\u001b[43mics\u001b[49m\u001b[38;5;241;43m=\u001b[39;49m\u001b[43mcondiciones_iniciales\u001b[49m\u001b[43m)\u001b[49m\n\u001b[0;32m     10\u001b[0m solucion\n",
            "File \u001b[1;32mc:\\Users\\User\\AppData\\Local\\Programs\\Python\\Python311\\Lib\\site-packages\\sympy\\solvers\\ode\\ode.py:640\u001b[0m, in \u001b[0;36mdsolve\u001b[1;34m(eq, func, hint, simplify, ics, xi, eta, x0, n, **kwargs)\u001b[0m\n\u001b[0;32m    637\u001b[0m \u001b[38;5;28;01melse\u001b[39;00m:\n\u001b[0;32m    638\u001b[0m     \u001b[38;5;66;03m# The key 'hint' stores the hint needed to be solved for.\u001b[39;00m\n\u001b[0;32m    639\u001b[0m     hint \u001b[38;5;241m=\u001b[39m hints[\u001b[38;5;124m'\u001b[39m\u001b[38;5;124mhint\u001b[39m\u001b[38;5;124m'\u001b[39m]\n\u001b[1;32m--> 640\u001b[0m     \u001b[38;5;28;01mreturn\u001b[39;00m \u001b[43m_helper_simplify\u001b[49m\u001b[43m(\u001b[49m\u001b[43meq\u001b[49m\u001b[43m,\u001b[49m\u001b[43m \u001b[49m\u001b[43mhint\u001b[49m\u001b[43m,\u001b[49m\u001b[43m \u001b[49m\u001b[43mhints\u001b[49m\u001b[43m,\u001b[49m\u001b[43m \u001b[49m\u001b[43msimplify\u001b[49m\u001b[43m,\u001b[49m\u001b[43m \u001b[49m\u001b[43mics\u001b[49m\u001b[38;5;241;43m=\u001b[39;49m\u001b[43mics\u001b[49m\u001b[43m)\u001b[49m\n",
            "File \u001b[1;32mc:\\Users\\User\\AppData\\Local\\Programs\\Python\\Python311\\Lib\\site-packages\\sympy\\solvers\\ode\\ode.py:669\u001b[0m, in \u001b[0;36m_helper_simplify\u001b[1;34m(eq, hint, match, simplify, ics, **kwargs)\u001b[0m\n\u001b[0;32m    664\u001b[0m \u001b[38;5;28;01mif\u001b[39;00m simplify:\n\u001b[0;32m    665\u001b[0m     \u001b[38;5;66;03m# odesimp() will attempt to integrate, if necessary, apply constantsimp(),\u001b[39;00m\n\u001b[0;32m    666\u001b[0m     \u001b[38;5;66;03m# attempt to solve for func, and apply any other hint specific\u001b[39;00m\n\u001b[0;32m    667\u001b[0m     \u001b[38;5;66;03m# simplifications\u001b[39;00m\n\u001b[0;32m    668\u001b[0m     \u001b[38;5;28;01mif\u001b[39;00m \u001b[38;5;28misinstance\u001b[39m(solvefunc, SingleODESolver):\n\u001b[1;32m--> 669\u001b[0m         sols \u001b[38;5;241m=\u001b[39m \u001b[43msolvefunc\u001b[49m\u001b[38;5;241;43m.\u001b[39;49m\u001b[43mget_general_solution\u001b[49m\u001b[43m(\u001b[49m\u001b[43m)\u001b[49m\n\u001b[0;32m    670\u001b[0m     \u001b[38;5;28;01melse\u001b[39;00m:\n\u001b[0;32m    671\u001b[0m         sols \u001b[38;5;241m=\u001b[39m solvefunc(eq, func, order, match)\n",
            "File \u001b[1;32mc:\\Users\\User\\AppData\\Local\\Programs\\Python\\Python311\\Lib\\site-packages\\sympy\\solvers\\ode\\single.py:283\u001b[0m, in \u001b[0;36mSingleODESolver.get_general_solution\u001b[1;34m(self, simplify)\u001b[0m\n\u001b[0;32m    281\u001b[0m     msg \u001b[38;5;241m=\u001b[39m \u001b[38;5;124m\"\u001b[39m\u001b[38;5;132;01m%s\u001b[39;00m\u001b[38;5;124m solver cannot solve:\u001b[39m\u001b[38;5;130;01m\\n\u001b[39;00m\u001b[38;5;132;01m%s\u001b[39;00m\u001b[38;5;124m\"\u001b[39m\n\u001b[0;32m    282\u001b[0m     \u001b[38;5;28;01mraise\u001b[39;00m ODEMatchError(msg \u001b[38;5;241m%\u001b[39m (\u001b[38;5;28mself\u001b[39m\u001b[38;5;241m.\u001b[39mhint, \u001b[38;5;28mself\u001b[39m\u001b[38;5;241m.\u001b[39mode_problem\u001b[38;5;241m.\u001b[39meq))\n\u001b[1;32m--> 283\u001b[0m \u001b[38;5;28;01mreturn\u001b[39;00m \u001b[38;5;28;43mself\u001b[39;49m\u001b[38;5;241;43m.\u001b[39;49m\u001b[43m_get_general_solution\u001b[49m\u001b[43m(\u001b[49m\u001b[43msimplify_flag\u001b[49m\u001b[38;5;241;43m=\u001b[39;49m\u001b[43msimplify\u001b[49m\u001b[43m)\u001b[49m\n",
            "File \u001b[1;32mc:\\Users\\User\\AppData\\Local\\Programs\\Python\\Python311\\Lib\\site-packages\\sympy\\solvers\\ode\\single.py:2943\u001b[0m, in \u001b[0;36mLieGroup._get_general_solution\u001b[1;34m(self, simplify_flag)\u001b[0m\n\u001b[0;32m   2940\u001b[0m         desols\u001b[38;5;241m.\u001b[39mextend(sol)\n\u001b[0;32m   2942\u001b[0m \u001b[38;5;28;01mif\u001b[39;00m desols \u001b[38;5;241m==\u001b[39m []:\n\u001b[1;32m-> 2943\u001b[0m     \u001b[38;5;28;01mraise\u001b[39;00m \u001b[38;5;167;01mNotImplementedError\u001b[39;00m(\u001b[38;5;124m\"\u001b[39m\u001b[38;5;124mThe given ODE \u001b[39m\u001b[38;5;124m\"\u001b[39m \u001b[38;5;241m+\u001b[39m \u001b[38;5;28mstr\u001b[39m(eq) \u001b[38;5;241m+\u001b[39m \u001b[38;5;124m\"\u001b[39m\u001b[38;5;124m cannot be solved by\u001b[39m\u001b[38;5;124m\"\u001b[39m\n\u001b[0;32m   2944\u001b[0m         \u001b[38;5;241m+\u001b[39m \u001b[38;5;124m\"\u001b[39m\u001b[38;5;124m the lie group method\u001b[39m\u001b[38;5;124m\"\u001b[39m)\n\u001b[0;32m   2945\u001b[0m \u001b[38;5;28;01mreturn\u001b[39;00m desols\n",
            "\u001b[1;31mNotImplementedError\u001b[0m: The given ODE -sin(x - y(x)**2) + Derivative(y(x), x) cannot be solved by the lie group method"
          ]
        }
      ],
      "source": [
        "x = sym.symbols('x')\n",
        "y = sym.Function('y')(x)\n",
        "\n",
        "lhs = y.diff(x)\n",
        "rhs = sym.sin(x - y**2)\n",
        "\n",
        "ecuacion_diferencial = sym.Eq(lhs, rhs)\n",
        "condiciones_iniciales = {y.subs(x, 0): 1}\n",
        "solucion = sym.dsolve(ecuacion_diferencial, ics=condiciones_iniciales)\n",
        "solucion"
      ]
    },
    {
      "cell_type": "markdown",
      "metadata": {},
      "source": [
        "La ecuación diferencial no tiene solución numérica"
      ]
    },
    {
      "cell_type": "code",
      "execution_count": null,
      "metadata": {
        "colab": {
          "base_uri": "https://localhost:8080/",
          "height": 430
        },
        "id": "mg7ib4IT6t22",
        "outputId": "4291793b-68ac-474e-b88b-8358bdf286eb"
      },
      "outputs": [
        {
          "data": {
            "image/png": "[encoded data removed]",
            "text/plain": [
              "<Figure size 640x480 with 1 Axes>"
            ]
          },
          "metadata": {},
          "output_type": "display_data"
        }
      ],
      "source": [
        "def y_prima(x, y):\n",
        "    return np.sin(x - y**2)\n",
        "#-------------------------------------\n",
        "a=0\n",
        "b=10\n",
        "N=100\n",
        "\n",
        "h1=(b-a)/N\n",
        "\n",
        "t_T=np.linspace(a,b,N)\n",
        "Tem=euler(y_prima,a,b,1,N)\n",
        "\n",
        "#-------------------------------------------\n",
        "fig=plt.figure()\n",
        "\n",
        "plt.plot(t_T,Tem,'--')\n",
        "\n",
        "plt.grid()\n",
        "plt.show()"
      ]
    }
  ],
  "metadata": {
    "colab": {
      "provenance": []
    },
    "kernelspec": {
      "display_name": "Python 3",
      "name": "python3"
    },
    "language_info": {
      "codemirror_mode": {
        "name": "ipython",
        "version": 3
      },
      "file_extension": ".py",
      "mimetype": "text/x-python",
      "name": "python",
      "nbconvert_exporter": "python",
      "pygments_lexer": "ipython3",
      "version": "3.11.2"
    }
  },
  "nbformat": 4,
  "nbformat_minor": 0
}
