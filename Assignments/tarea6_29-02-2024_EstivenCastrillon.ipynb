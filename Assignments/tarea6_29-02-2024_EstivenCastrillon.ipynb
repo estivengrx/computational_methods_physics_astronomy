{
  "cells": [
    {
      "cell_type": "markdown",
      "metadata": {},
      "source": [
        "<div align=\"left\">\n",
        "<img src=\"https://www.udea.edu.co/wps/wcm/connect/udea/99fc43e7-7a64-45bd-97fc-96639b70813d/logosimbolo-vertical.png?MOD=AJPERES&CVID=ljeLvHr\" width=\"100\" height=\"130\" align=\"left\" style=\"margin-right: 50px\">\n",
        "</div>\n",
        "\n",
        "# Computational Methods homeworks\n",
        "\n",
        "Homework 6\n",
        "\n",
        "<div align=\"right\" style=\"width: 99.5%;\">\n",
        "Estiven Castrillon\n",
        "<!-- </div> -->\n",
        "\n",
        "<div style=\"width: 99.5%; border-bottom: 3px solid white;\"></div>"
      ]
    },
    {
      "cell_type": "markdown",
      "metadata": {},
      "source": [
        "# Tarea\n",
        "Consulte el método de steffensen para hallar raíces, escriba los pasos para su implementación e implementelo."
      ]
    },
    {
      "cell_type": "markdown",
      "metadata": {},
      "source": [
        "Pasos para implementar el método de Steffensen:\n",
        "\n",
        "1. **Función**: Se define la función `f(x)` para la cual quieres encontrar la raíz.\n",
        "\n",
        "2. **Valor inicial**: Se elige un valor inicial `x0`.\n",
        "\n",
        "3. **Iteraciones**: Se aplica la siguiente fórmula iterativamente hasta la convergencia:\n",
        "\n",
        "   La fórmula del método de Steffensen es:\n",
        "\n",
        "   $$x_{new} = x - \\frac{{(f(x))^2}}{{f(x + f(x)) - f(x)}}$$\n",
        "\n",
        "4. **Convergencia**: La convergencia se alcanza cuando la diferencia entre dos valores `x` consecutivos es menor que una tolerancia predefinida. \n",
        "\n",
        "   Se verifica la raíz sustituyendo el valor encontrado en la función original. Si `f(x)` es cercano a cero, entonces se ha encontrado una raíz."
      ]
    },
    {
      "cell_type": "code",
      "execution_count": 2,
      "metadata": {
        "id": "ZPPaMz6TwhlO"
      },
      "outputs": [
        {
          "name": "stdout",
          "output_type": "stream",
          "text": [
            "La raíz para la función 1 es: 0.5671664379478828\n",
            "La raíz para la función 2 es: -1.0000015156387845\n"
          ]
        }
      ],
      "source": [
        "import numpy as np\n",
        "\n",
        "# Definición de funciones a encontrar raíces\n",
        "funcion_1 = lambda x: np.exp(-x) - x\n",
        "funcion_2 = lambda x: 3*x**3 + x**2 + 2\n",
        "\n",
        "def metodo_steffensen(funcion, punto_inicial:float, tolerancia: float=10e-5, max_iter: int=1000) -> float:\n",
        "    \"\"\"\n",
        "    Implementa el método de Steffensen para encontrar una raíz de la función dada.\n",
        "\n",
        "    Parámetros:\n",
        "    funcion: La función para la cual se busca la raíz.\n",
        "    punto_inicial: El valor inicial para el método de Steffensen.\n",
        "    tolerancia: La tolerancia para la convergencia del método. Por defecto es 10e-5.\n",
        "    max_iter: El número máximo de iteraciones. Por defecto es 1000.\n",
        "\n",
        "    Devuelve:\n",
        "    La raíz encontrada, si el método converge.\n",
        "    \"\"\"\n",
        "    x = punto_inicial # Defino punto inicial como x para ser fiel a la ecuación\n",
        "    for _ in range(max_iter):\n",
        "        x = x - (funcion(x)**2)/(funcion(x + funcion(x)) - funcion(x)) # Aplicación de la fórmula de Steffensen\n",
        "        if abs(funcion(x)) < tolerancia:   # Condición de parada según la tolerancia\n",
        "            return x\n",
        "\n",
        "print(f'La raíz para la función 1 es: {metodo_steffensen(funcion_1, 1)}')\n",
        "print(f'La raíz para la función 2 es: {metodo_steffensen(funcion_2, 1)}')        "
      ]
    }
  ],
  "metadata": {
    "colab": {
      "provenance": []
    },
    "kernelspec": {
      "display_name": "Python 3",
      "name": "python3"
    },
    "language_info": {
      "codemirror_mode": {
        "name": "ipython",
        "version": 3
      },
      "file_extension": ".py",
      "mimetype": "text/x-python",
      "name": "python",
      "nbconvert_exporter": "python",
      "pygments_lexer": "ipython3",
      "version": "3.11.2"
    }
  },
  "nbformat": 4,
  "nbformat_minor": 0
}
