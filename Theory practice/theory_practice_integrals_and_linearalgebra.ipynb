{
 "cells": [
  {
   "cell_type": "code",
   "execution_count": 5,
   "metadata": {},
   "outputs": [],
   "source": [
    "import numpy as np"
   ]
  },
  {
   "cell_type": "markdown",
   "metadata": {},
   "source": [
    "Una buena aproximación para las integrales en el método del trapecio es usar el polinomio de lagrange, ya que es muchísimo más fácil integral polinomios que cualquier otra función."
   ]
  },
  {
   "cell_type": "markdown",
   "metadata": {},
   "source": [
    "# Método del Trapecio - Integrales normales"
   ]
  },
  {
   "cell_type": "markdown",
   "metadata": {},
   "source": [
    "El método del trapecio es un método numérico para aproximar la integral de una función. Se basa en la idea de aproximar el área bajo la curva de la función como un trapecio, en lugar de usar rectángulos como en el método de Riemann.\n",
    "\n",
    "La fórmula del método del trapecio es:\n",
    "\n",
    "$$\\int_{x_0}^{x_1}f(x)dx = \\frac{h}{2}[ f(x_0) + f(x_1) ]-\\frac{h^3}{12}f^{'''}(\\xi)$$\n",
    "\n",
    "donde $h = x_1 - x_0$ es el ancho del intervalo, $f(x_0)$ y $f(x_1)$ son los valores de la función en los extremos del intervalo, y $f^{'''}(\\xi)$ es la tercera derivada de la función en algún punto $\\xi$ en el intervalo $[x_0, x_1]$.\n",
    "\n",
    "El término $-\\frac{h^3}{12}f^{'''}(\\xi)$ es el error de la aproximación, que tiende a cero a medida que $h$ se hace más pequeño. Por lo tanto, el método del trapecio es exacto para funciones lineales, donde la tercera derivada es cero."
   ]
  },
  {
   "cell_type": "code",
   "execution_count": 6,
   "metadata": {},
   "outputs": [
    {
     "name": "stdout",
     "output_type": "stream",
     "text": [
      "0.3323344994999998\n",
      "0.3323344994999998\n"
     ]
    }
   ],
   "source": [
    "# Código del método del trapecio\n",
    "def metodo_trapecio(funcion, limite_inferior, limite_superior, num_intervalos):\n",
    "    \"\"\"\n",
    "    Parámetros:\n",
    "    funcion: la función a integrar.\n",
    "    limite_inferior: el límite inferior de la integral.\n",
    "    limite_superior: el límite superior de la integral.\n",
    "    num_intervalos: el número de intervalos en los que se divide el área bajo la curva.\n",
    "    \"\"\"\n",
    "    # Calcula el ancho de los intervalos\n",
    "    ancho_intervalo = (limite_superior - limite_inferior) / float(num_intervalos)\n",
    "\n",
    "    integral = 0\n",
    "    for i in range(1, int(num_intervalos)):\n",
    "        # Calcula el valor de x en el inicio y el final del intervalo\n",
    "        x_inicio = limite_inferior + (i - 1) * ancho_intervalo\n",
    "        x_final = limite_inferior + i * ancho_intervalo\n",
    "\n",
    "        # Calcula el área del trapecio en este intervalo y la suma a la integral\n",
    "        integral += 0.5 * ancho_intervalo * (funcion(x_inicio) + funcion(x_final))\n",
    "\n",
    "    return integral\n",
    "\n",
    "# Código del profe\n",
    "def trap(f,a,b,n):\n",
    "    h = (b-a) / float(n)\n",
    "    intgr =0\n",
    "    for i in range(1, int(n)):\n",
    "        intgr+= 0.5 * h * (f(a+(i-1)*h) + f(a+i*h))\n",
    "\n",
    "    #error_trapecio = (b-a)*(h^2)/12\n",
    "    return intgr\n",
    "\n",
    "# Forma de uso\n",
    "def f(x):\n",
    "    return x**2\n",
    "\n",
    "print(metodo_trapecio(f, 0, 1, 1000))\n",
    "print(trap(f, 0, 1, 1000))"
   ]
  },
  {
   "cell_type": "markdown",
   "metadata": {},
   "source": [
    "# Método de Simpson 1/3"
   ]
  },
  {
   "cell_type": "markdown",
   "metadata": {},
   "source": [
    "Una aproximación ligeramente mejor a la integración es la regla de Simpson. Para esto, asuma una función $ f (x) $ y un intervalo $ [x_0, x_2] $, con un punto intermedio $ x_1 $. El polinomio de Lagrange de segundo orden asociado está dado por:\n",
    "\n",
    "$$P_2(x) = \\frac{(x-x_1)(x-x_2)}{(x_0-x_1)(x_0-x_2)}f(x_0) + \\frac{(x-x_0)(x-x_2)}{(x_1-x_0)(x_1-x_2)}f(x_1) + \\frac{(x-x_0)(x-x_1)}{(x_2-x_0)(x_2-x_1)}f(x_2)$$\n",
    "\n",
    "La expresion final entonces:\n",
    "    \n",
    "$$\\int_{x_0}^{x_2} f(x)dx = \\frac{h}{3}[ f(x_0)+4f(x_1)+f(x_2) ]-\\frac{h^5}{90}f^{(4)}(\\xi)$$\n",
    "$x_0=a$,$x_2=b$, y $x_1=a+h$, en donde $h=(b-a)/n$"
   ]
  },
  {
   "cell_type": "code",
   "execution_count": 16,
   "metadata": {},
   "outputs": [
    {
     "name": "stdout",
     "output_type": "stream",
     "text": [
      "0.3333333333333334\n",
      "0.3333333333333334\n"
     ]
    }
   ],
   "source": [
    "# Código simpson 1/3\n",
    "def metodo_simpson_un_tercio(funcion, limite_inferior, limite_superior, num_intervalos):\n",
    "    \"\"\"\n",
    "    Parámetros:\n",
    "    funcion: la función a integrar.\n",
    "    limite_inferior: el límite inferior de la integral.\n",
    "    limite_superior: el límite superior de la integral.\n",
    "    num_intervalos: el número de intervalos en los que se divide el área bajo la curva.\n",
    "    \"\"\"\n",
    "    # Calcula el ancho de los intervalos\n",
    "    ancho_intervalo = (limite_superior - limite_inferior) / num_intervalos\n",
    "\n",
    "    # Inicializa las sumas de Simpson\n",
    "    suma_simpson_0 = funcion(limite_inferior) + funcion(limite_superior) # sumas en los extremos\n",
    "    suma_simpson_1 = 0 # sumas de términos impares\n",
    "    suma_simpson_2 = 0 # sumas de términos pares\n",
    "\n",
    "    for i in range(1, num_intervalos):  # suma en 1, ..., n-1\n",
    "        x = limite_inferior + i * ancho_intervalo\n",
    "        if i % 2 == 0:\n",
    "            suma_simpson_2 += funcion(x)  # suma de pares\n",
    "        else:\n",
    "            suma_simpson_1 += funcion(x)  # suma de impares\n",
    "\n",
    "    # Calcula la integral usando la fórmula de Simpson 1/3\n",
    "    integral = (suma_simpson_0 + 2 * suma_simpson_2 + 4 * suma_simpson_1) * ancho_intervalo / 3\n",
    "\n",
    "    return integral\n",
    "\n",
    "# Código del profe\n",
    "def Simpson1_3(f,a,b,n):\n",
    "   h = (b - a)/n\n",
    "   S0 = f(a) + f(b)\n",
    "   S1 = 0\n",
    "   S2 = 0\n",
    "   for i in range(1,n):  # suma en 1, ..., n-1\n",
    "     if (i%2==0):\n",
    "        S2 += f(a + i*h) # suma de pares\n",
    "     else:\n",
    "        S1 += f(a + i*h) # suma de impares\n",
    "   return (S0 + 2*S2 + 4*S1)*h/3\n",
    "\n",
    "# Forma de uso\n",
    "def f(x):\n",
    "    return x**2\n",
    "\n",
    "print(metodo_simpson_un_tercio(f, 0, 1, 1000))\n",
    "print(Simpson1_3(f, 0, 1, 1000))"
   ]
  },
  {
   "cell_type": "markdown",
   "metadata": {},
   "source": [
    "# Método de Simpson 3/8\n",
    "\n",
    "Es el resultado cuando para el integral se utiliza el resultado de una interpolación con polinomio de tercer grado.\n",
    "\n",
    "$$\\int_{a}^{b} f(x) dx \\approx \\frac{3h}{8} [f(x_0) + 3f(x_1) + 3f(x_2) + 2f(x_3) + ... + f(x_n)]$$"
   ]
  },
  {
   "cell_type": "code",
   "execution_count": 15,
   "metadata": {},
   "outputs": [
    {
     "name": "stdout",
     "output_type": "stream",
     "text": [
      "0.3330835833750002\n"
     ]
    }
   ],
   "source": [
    "# Mi código de la regla de Simpson 3/8\n",
    "# En la fórmula, los términos con índices que son múltiplos de 3 se multiplican por 2 y los demás términos se multiplican por 3.\n",
    "def Simpson3_8(f, a, b, particiones):\n",
    "   h = (b - a) / particiones\n",
    "   S = f(a) + f(b)\n",
    "   for i in range(1, particiones):  # suma en 1, ..., n-1\n",
    "        x = a + i * h\n",
    "        if i % 3 == 0:\n",
    "            S += 2 * f(x)  # suma de términos donde i es múltiplo de tres\n",
    "        else:\n",
    "            S += 3 * f(x)  # suma de términos donde i no es múltiplo de tres\n",
    "\n",
    "   return S * (3 * h / 8)\n",
    "\n",
    "# Forma de uso\n",
    "def f(x):\n",
    "    return x**2\n",
    "\n",
    "print(Simpson3_8(f, 0, 1, 1000))"
   ]
  },
  {
   "cell_type": "markdown",
   "metadata": {},
   "source": [
    "# Método de Von Neuman, (Monte Carlo) \n",
    "Generalizado a valores negativos y positivos de la función"
   ]
  },
  {
   "cell_type": "code",
   "execution_count": 17,
   "metadata": {},
   "outputs": [
    {
     "name": "stdout",
     "output_type": "stream",
     "text": [
      "0.322\n",
      "0.327\n"
     ]
    }
   ],
   "source": [
    "# Código Método de Monte Carlo\n",
    "def Von_Neumann_Monte_Carlo(f, m, M, a, b, N):\n",
    "    \"\"\"\n",
    "    Esta función implementa el método de Von Neumann para calcular la integral de una función.\n",
    "    \n",
    "    Parámetros:\n",
    "    f: La función a integrar.\n",
    "    m: El límite inferior del rango en el que se generan los números aleatorios para y.\n",
    "    M: El límite superior del rango en el que se generan los números aleatorios para y.\n",
    "    a: El límite inferior de la integral.\n",
    "    b: El límite superior de la integral.\n",
    "    N: El número de puntos aleatorios a generar.\n",
    "\n",
    "    Retorna:\n",
    "    I: La estimación de la integral de la función f en el intervalo [a, b].\n",
    "    \"\"\"\n",
    "    \n",
    "    Nmax = 0  # Contador para los puntos que caen en el área positiva de la integral\n",
    "    Nmenos = 0  # Contador para los puntos que caen en el área negativa de la integral\n",
    "\n",
    "    # Generar N puntos aleatorios y verificar si caen en el área positiva o negativa de la integral\n",
    "    for i in range(N):\n",
    "        x = np.random.uniform(a, b)  # Generar un número aleatorio para x en el intervalo [a, b]\n",
    "        y = np.random.uniform(-m, M)  # Generar un número aleatorio para y en el intervalo [-m, M]\n",
    "\n",
    "        # Si el punto cae en el área positiva de la integral, incrementar el contador Nmax\n",
    "        if (y > 0) and (y < f(x)): \n",
    "            Nmax += 1\n",
    "\n",
    "        # Si el punto cae en el área negativa de la integral, incrementar el contador Nmenos\n",
    "        if (y < 0) and (y > f(x)): \n",
    "            Nmenos += 1\n",
    "\n",
    "    # Calcular la integral como el área positiva menos el área negativa\n",
    "    # El área del rectángulo es 2W0(b-a).\n",
    "    I = (Nmax - Nmenos) / N * (M + m) * (b - a)\n",
    "\n",
    "    return I\n",
    "\n",
    "# Código del profe\n",
    "def Von_Neumann(f,m,M,a,b,N):\n",
    "    Nmax = 0\n",
    "    Nmenos = 0\n",
    "    for i in range(N):\n",
    "       x = np.random.uniform(a,b)\n",
    "       y = np.random.uniform(-m,M)\n",
    "       # punto dentro del área positiva de la integral\n",
    "       if (y > 0)and(y < f(x)): Nmax   += 1\n",
    "       # punto dentro del área negativa de la integra\n",
    "       if (y < 0)and(y > f(x)): Nmenos += 1\n",
    "\n",
    "    # la integral es el área positiva menos el área negativa\n",
    "    #  y el área del rectángulo es 2W0(b-a).\n",
    "    I = (Nmax - Nmenos)/N*(M+m)*(b-a)\n",
    "\n",
    "    return I\n",
    "\n",
    "# Forma de uso\n",
    "def f(x):\n",
    "    return x**2\n",
    "\n",
    "print(Von_Neumann_Monte_Carlo(f, 0, 1, 0, 1, 1000))\n",
    "print(Von_Neumann(f, 0, 1, 0, 1, 1000))"
   ]
  },
  {
   "cell_type": "markdown",
   "metadata": {},
   "source": [
    "# Integrales múltiples"
   ]
  },
  {
   "cell_type": "code",
   "execution_count": 25,
   "metadata": {},
   "outputs": [
    {
     "name": "stdout",
     "output_type": "stream",
     "text": [
      "El resultado es: 4.229408695219999e+31\n"
     ]
    }
   ],
   "source": [
    "import numpy as np\n",
    "\n",
    "def monte_carlo_integral_multiple(f, a, b, N, dim):\n",
    "    \"\"\"\n",
    "    Esta función implementa el método de Monte Carlo para calcular una integral de alta dimensión.\n",
    "    \n",
    "    Parámetros:\n",
    "    f: La función a integrar.\n",
    "    a: El límite inferior de la integral.\n",
    "    b: El límite superior de la integral.\n",
    "    N: El número de puntos aleatorios a generar.\n",
    "    dim: El número de dimensiones de la integral.\n",
    "\n",
    "    Retorna:\n",
    "    integral: La estimación de la integral de la función f en el intervalo [a, b] en todas las dimensiones.\n",
    "    \"\"\"\n",
    "    \n",
    "    # Generar N puntos aleatorios en el intervalo [a, b] para cada dimensión\n",
    "    x = np.random.uniform(a, b, (N, dim))\n",
    "\n",
    "    # Calcular los valores de la función en estos puntos\n",
    "    z = f(x)\n",
    "\n",
    "    # Calcular la integral como el promedio de los valores de la función\n",
    "    # multiplicado por el volumen del hipercubo de integración\n",
    "    integral = np.mean(z) * ((b - a) ** dim)\n",
    "\n",
    "    return integral\n",
    "\n",
    "# # Código del profe                        # Este código solo es para calcular 100 integrales desde -1 a 1 de x^2\n",
    "# def calculate_integral(N):\n",
    "#     I = 0\n",
    "#     for j in range(N):\n",
    "#         for i in range(100):\n",
    "#             x = np.random.uniform(-1, 1)\n",
    "#             I += x**2\n",
    "#     return (I * (2)**100) / N\n",
    "\n",
    "# Ejemplo de uso de la tarea que nadie pudo hacer\n",
    "def f(x):\n",
    "    return np.sum(x**2, axis=1)\n",
    "\n",
    "n = 100  # Número de dimensiones\n",
    "result = monte_carlo_integral_multiple(f, -1, 1, 10000, n)\n",
    "print(\"El resultado es:\", result)"
   ]
  },
  {
   "cell_type": "markdown",
   "metadata": {},
   "source": [
    "Eliminación gaussiana para inversa de una matriz"
   ]
  },
  {
   "cell_type": "code",
   "execution_count": 1,
   "metadata": {},
   "outputs": [],
   "source": [
    "def row_lamb(i, lamb, A):\n",
    "    M = np.copy(A)\n",
    "    M[[i]] *= lamb\n",
    "    return M\n",
    "\n",
    "def row_comb(i, j, lamb, A):\n",
    "    M = np.copy(A)\n",
    "    M[[i]] += lamb * M[[j]]\n",
    "    return M\n",
    "\n",
    "def row_swap(i, j, A):\n",
    "    M = np.copy(A)\n",
    "    M[[i, j]] = M[[j, i]]\n",
    "    return M\n",
    "\n",
    "#Gaussian Elimination\n",
    "def inverse_Gaussian_Elimination( A0 ):\n",
    "    #Making local copy of matrix\n",
    "    A = 1.0*np.copy(A0) # Normalizaciobn\n",
    "    n = len(A)\n",
    "\n",
    "    A = np.hstack((A, np.identity(n)))\n",
    "    #Sweeping all the columns in order to eliminate coefficients of the i-th variable\n",
    "    for i in range( 0, n ):\n",
    "\n",
    "        #Sweeping all the rows for the i-th column in order to find the first non-zero coefficient\n",
    "        for j in range( i, n ):\n",
    "            if A[i,j] != 0:\n",
    "                #Normalization coefficient\n",
    "                Norm = A[i,j]\n",
    "                break\n",
    "\n",
    "        #Applying swap operation to put the non-zero coefficient in the i-th row\n",
    "        A = row_swap( i, j, A )\n",
    "\n",
    "        #Eliminating the coefficient associated to the i-th variable\n",
    "        for j in range( n ):\n",
    "            if i != j:\n",
    "                lamb = -A[j,i]/Norm\n",
    "                A = row_comb( j, i, lamb , A )\n",
    "\n",
    "    for i in range(n):\n",
    "        A = row_lamb(i, 1/A[i][i], A)\n",
    "\n",
    "    #Upper diagonal inverse matrix\n",
    "    return np.hsplit(A,2)[1]"
   ]
  }
 ],
 "metadata": {
  "kernelspec": {
   "display_name": "Python 3",
   "language": "python",
   "name": "python3"
  },
  "language_info": {
   "codemirror_mode": {
    "name": "ipython",
    "version": 3
   },
   "file_extension": ".py",
   "mimetype": "text/x-python",
   "name": "python",
   "nbconvert_exporter": "python",
   "pygments_lexer": "ipython3",
   "version": "3.11.2"
  }
 },
 "nbformat": 4,
 "nbformat_minor": 2
}
