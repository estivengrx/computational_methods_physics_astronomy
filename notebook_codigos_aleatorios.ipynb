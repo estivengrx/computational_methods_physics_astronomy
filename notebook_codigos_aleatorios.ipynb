{
 "cells": [
  {
   "cell_type": "code",
   "execution_count": 42,
   "metadata": {},
   "outputs": [
    {
     "data": {
      "text/plain": [
       "0.8414709848078965"
      ]
     },
     "execution_count": 42,
     "metadata": {},
     "output_type": "execute_result"
    }
   ],
   "source": [
    "from math import factorial, radians\n",
    "\n",
    "def sen(x: int, n: int = 1000) -> float:\n",
    "    \"\"\"\n",
    "    Esta función calcula la suma de una serie con un patrón específico.\n",
    "\n",
    "    Parámetros:\n",
    "    x (float): El número que se utilizará en la serie, sen(x).\n",
    "    n (int): El número de términos en la serie. Por defecto es 1000.\n",
    "\n",
    "    Devuelve:\n",
    "    float: El resultado de la suma de la serie.\n",
    "    \"\"\"\n",
    "    resultado = 0.0  # Inicializa el resultado en 0.0\n",
    "    # x = radians(x)  # Convierte el valor de x a radianes\n",
    "    for i in range(n):  # Itera sobre cada número en el rango hasta n\n",
    "        # Añade el siguiente término de la serie al resultado\n",
    "        resultado += (-1)**i * x**(2*i+1) / factorial(2*i+1)\n",
    "    return resultado  # Devuelve el resultado\n",
    "\n",
    "sen(1)"
   ]
  }
 ],
 "metadata": {
  "kernelspec": {
   "display_name": "Python 3",
   "language": "python",
   "name": "python3"
  },
  "language_info": {
   "codemirror_mode": {
    "name": "ipython",
    "version": 3
   },
   "file_extension": ".py",
   "mimetype": "text/x-python",
   "name": "python",
   "nbconvert_exporter": "python",
   "pygments_lexer": "ipython3",
   "version": "3.11.2"
  }
 },
 "nbformat": 4,
 "nbformat_minor": 2
}
