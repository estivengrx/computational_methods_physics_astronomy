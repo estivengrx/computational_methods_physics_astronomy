{
 "cells": [
  {
   "cell_type": "code",
   "execution_count": 9,
   "metadata": {},
   "outputs": [
    {
     "data": {
      "text/plain": [
       "0.8414709848078965"
      ]
     },
     "execution_count": 9,
     "metadata": {},
     "output_type": "execute_result"
    }
   ],
   "source": [
    "from math import factorial, radians\n",
    "\n",
    "def sen(x: int, n: int = 1000) -> float:\n",
    "    \"\"\"\n",
    "    Esta función calcula la suma de una serie con un patrón específico.\n",
    "\n",
    "    Parámetros:\n",
    "    x (float): El número que se utilizará en la serie, sen(x).\n",
    "    n (int): El número de términos en la serie. Por defecto es 1000.\n",
    "\n",
    "    Devuelve:\n",
    "    float: El resultado de la suma de la serie.\n",
    "    \"\"\"\n",
    "    resultado = 0.0  # Inicializa el resultado en 0.0\n",
    "    # x = radians(x)  # Convierte el valor de x a radianes\n",
    "    for i in range(n):  # Itera sobre cada número en el rango hasta n\n",
    "        # Añade el siguiente término de la serie al resultado\n",
    "        resultado += (-1)**i * x**(2*i+1) / factorial(2*i+1)\n",
    "    return resultado  # Devuelve el resultado\n",
    "\n",
    "sen(1)"
   ]
  },
  {
   "cell_type": "markdown",
   "metadata": {},
   "source": [
    "Inversa de una matriz por eliminación gaussiana"
   ]
  },
  {
   "cell_type": "code",
   "execution_count": 10,
   "metadata": {},
   "outputs": [],
   "source": [
    "import numpy as np\n",
    "def row_lamb(i, lamb, A):\n",
    "    M = np.copy(A)\n",
    "    M[[i]] *= lamb\n",
    "    return M\n",
    "\n",
    "def row_comb(i, j, lamb, A):\n",
    "    M = np.copy(A)\n",
    "    M[[i]] += lamb * M[[j]]\n",
    "    return M\n",
    "\n",
    "def row_swap(i, j, A):\n",
    "    M = np.copy(A)\n",
    "    M[[i, j]] = M[[j, i]]\n",
    "    return M\n",
    "\n",
    "#Gaussian Elimination\n",
    "def inverse_Gaussian_Elimination( A0 ):\n",
    "    #Making local copy of matrix\n",
    "    A = 1.0*np.copy(A0) # Normalizaciobn\n",
    "    n = len(A)\n",
    "\n",
    "    A = np.hstack((A, np.identity(n)))\n",
    "    #Sweeping all the columns in order to eliminate coefficients of the i-th variable\n",
    "    for i in range( 0, n ):\n",
    "\n",
    "        #Sweeping all the rows for the i-th column in order to find the first non-zero coefficient\n",
    "        for j in range( i, n ):\n",
    "            if A[i,j] != 0:\n",
    "                #Normalization coefficient\n",
    "                Norm = A[i,j]\n",
    "                break\n",
    "\n",
    "        #Applying swap operation to put the non-zero coefficient in the i-th row\n",
    "        A = row_swap( i, j, A )\n",
    "\n",
    "        #Eliminating the coefficient associated to the i-th variable\n",
    "        for j in range( n ):\n",
    "            if i != j:\n",
    "                lamb = -A[j,i]/Norm\n",
    "                A = row_comb( j, i, lamb , A )\n",
    "\n",
    "    for i in range(n):\n",
    "        A = row_lamb(i, 1/A[i][i], A)\n",
    "\n",
    "    #Upper diagonal inverse matrix\n",
    "    return np.hsplit(A,2)[1]"
   ]
  },
  {
   "cell_type": "code",
   "execution_count": 11,
   "metadata": {},
   "outputs": [
    {
     "name": "stdout",
     "output_type": "stream",
     "text": [
      "[[1. 2. 3.]\n",
      " [4. 0. 1.]\n",
      " [7. 0. 9.]]\n",
      "\n",
      "\n",
      "[[ 0.          0.31034483 -0.03448276]\n",
      " [ 0.5         0.20689655 -0.18965517]\n",
      " [ 0.         -0.24137931  0.13793103]]\n",
      "\n",
      "\n",
      "[[ 0.          0.31034483 -0.03448276]\n",
      " [ 0.5         0.20689655 -0.18965517]\n",
      " [-0.         -0.24137931  0.13793103]]\n"
     ]
    }
   ],
   "source": [
    "# Prubea del código anterior\n",
    "A = np.array([[1, 2, 3], [4, 0, 1], [7, 0, 9]], dtype=float)\n",
    "print(A)\n",
    "print('\\n')\n",
    "print(inverse_Gaussian_Elimination(A))\n",
    "print('\\n')\n",
    "print(np.linalg.inv(A))"
   ]
  }
 ],
 "metadata": {
  "kernelspec": {
   "display_name": "Python 3",
   "language": "python",
   "name": "python3"
  },
  "language_info": {
   "codemirror_mode": {
    "name": "ipython",
    "version": 3
   },
   "file_extension": ".py",
   "mimetype": "text/x-python",
   "name": "python",
   "nbconvert_exporter": "python",
   "pygments_lexer": "ipython3",
   "version": "3.11.2"
  }
 },
 "nbformat": 4,
 "nbformat_minor": 2
}
