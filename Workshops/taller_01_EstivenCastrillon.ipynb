{
 "cells": [
  {
   "cell_type": "markdown",
   "metadata": {},
   "source": [
    "# Taller 01 de métodos computacionales para físicos  y astronomos\n",
    "## Universidad de Antioquia\n",
    "## Estiven Castrillon Alzate 1040570656"
   ]
  },
  {
   "cell_type": "markdown",
   "metadata": {},
   "source": [
    "\n",
    "**1** Realice el problema del borracho visto en clase, pero esta vez en dos dimensiones; es decir, que el desplazamiento se realice tanto en `x` como en `y` graficando la trayectoria del borracho.\n",
    "\n",
    "**a)**  Considere un desplazamiento en `x` **o** en `y` de forma aleatoria\n",
    "\n",
    "**b)** Ahora no considere restricciones en la dirección. Es decir, el desplazamiento se da tando en 'x' como en 'y'."
   ]
  },
  {
   "cell_type": "code",
   "execution_count": null,
   "metadata": {},
   "outputs": [],
   "source": []
  },
  {
   "cell_type": "markdown",
   "metadata": {},
   "source": [
    "**2** Realice una función en donde:\n",
    "\n",
    "**a)** Se convierta un binario de 32bits a un decimal.\n",
    "\n",
    "**b)** se convierta un binario de 64bits a un decimal.\n",
    "\n",
    "**Nota**: desarrolle este ejercicio teniendo en cuenta la convención IEEE-754, es decir, los binarios están escritos en este formato."
   ]
  },
  {
   "cell_type": "code",
   "execution_count": null,
   "metadata": {},
   "outputs": [],
   "source": []
  },
  {
   "cell_type": "markdown",
   "metadata": {},
   "source": [
    "**3** Consulte la sucesión de Fibonacci y\n",
    "\n",
    "**a)**cree una función en Python para calcular la sucesión hasta el n-esimo termino (siendo n un argumento de entrada).\n",
    "\n",
    "**b)** Demuestre que seleccionando números arbitrarios se cumple la proporción áurea.\n",
    "\n",
    "**c)** Haga un cambio de coordenadas y grafique la espira de Fibonacci"
   ]
  },
  {
   "cell_type": "code",
   "execution_count": null,
   "metadata": {},
   "outputs": [],
   "source": []
  },
  {
   "cell_type": "markdown",
   "metadata": {},
   "source": [
    "**4**. Realice un análisis similar al visto en clase (para la función seno) por error de método para la serie de $e^x$. ¿En cuál de las dos series (seno o euler) crece más rápido el error?"
   ]
  },
  {
   "cell_type": "code",
   "execution_count": null,
   "metadata": {},
   "outputs": [],
   "source": []
  },
  {
   "cell_type": "markdown",
   "metadata": {},
   "source": [
    "**5**. **a)**Programe una clase que encuentre en un tiempo dado la posición en x o en y en un movimiento en tiro parabólico, dadas las demás condiciones ($V_0,\\theta,x_0,y_0$).\n",
    "\n",
    "**b)** Luego genere una lista de 100 tiempos y cree un Dataframe con columnas($x,y,t$).\n",
    "\n",
    "**c)** Finalmente, genere un plot con tres graficas $(x,t)$, $(y,t)$, y $(x,y)$."
   ]
  },
  {
   "cell_type": "code",
   "execution_count": null,
   "metadata": {},
   "outputs": [],
   "source": []
  }
 ],
 "metadata": {
  "language_info": {
   "name": "python"
  }
 },
 "nbformat": 4,
 "nbformat_minor": 2
}
