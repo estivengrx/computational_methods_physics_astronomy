{
 "cells": [
  {
   "cell_type": "markdown",
   "metadata": {},
   "source": [
    "<div align=\"left\">\n",
    "<img src=\"https://www.udea.edu.co/wps/wcm/connect/udea/99fc43e7-7a64-45bd-97fc-96639b70813d/logosimbolo-vertical.png?MOD=AJPERES&CVID=ljeLvHr\" width=\"100\" height=\"130\" align=\"left\" style=\"margin-right: 50px\">\n",
    "</div>\n",
    "\n",
    "# Computational Methods workshops\n",
    "\n",
    "Workshop 00\n",
    "\n",
    "<div align=\"right\" style=\"width: 99.5%;\">\n",
    "Estiven Castrillon\n",
    "</div>\n",
    "\n",
    "<div style=\"width: 99.5%; border-bottom: 3px solid white;\"></div>"
   ]
  },
  {
   "cell_type": "markdown",
   "metadata": {},
   "source": [
    "# Taller 00 de métodos computacionales para físicos  y astronomos\n",
    "- Universidad de Antioquia\n",
    "- Estiven Castrillon Alzate 1040570656"
   ]
  },
  {
   "cell_type": "code",
   "execution_count": 11,
   "metadata": {},
   "outputs": [],
   "source": [
    "import numpy as np\n",
    "from random import sample"
   ]
  },
  {
   "cell_type": "markdown",
   "metadata": {},
   "source": [
    "## Problemas\n",
    "\n",
    "**1** Escribe un programa que te permita jugar a una versión simplificada del\n",
    "juego Master Mind. El juego consistirá en adivinar una cadena de números\n",
    "distintos. Al principio, el programa debe pedir la longitud de la cadena \"de 4 cifras\". Después el programa debe ir pidiendo que intentes adivinar la\n",
    "Cadena de números. En cada intento, el programa informará de cuántos números\n",
    "han sido acertados (el programa considerará que se ha acertado un número si\n",
    "coincide el valor y la posición).\n"
   ]
  },
  {
   "cell_type": "code",
   "execution_count": 12,
   "metadata": {},
   "outputs": [
    {
     "name": "stdout",
     "output_type": "stream",
     "text": [
      "El usuario ha introducido 1234\n",
      "Así va su adivinanza: xxxx\n",
      "El usuario ha introducido 5647\n",
      "Así va su adivinanza: xxxx\n",
      "El usuario ha introducido 7891\n",
      "Así va su adivinanza: xxxx\n",
      "El usuario ha introducido 0176\n",
      "El número 0 en la posición 0 es correcto\n",
      "Así va su adivinanza: 0xxx\n",
      "El usuario ha introducido 0368\n",
      "El número 0 en la posición 0 es correcto\n",
      "Así va su adivinanza: 0xxx\n",
      "El usuario ha introducido 0495\n",
      "El número 0 en la posición 0 es correcto\n",
      "El número 5 en la posición 3 es correcto\n",
      "Así va su adivinanza: 0xx5\n",
      "El usuario ha introducido 0255\n",
      "El número 0 en la posición 0 es correcto\n",
      "El número 5 en la posición 3 es correcto\n",
      "Así va su adivinanza: 0xx5\n",
      "El usuario ha introducido 0225\n",
      "El número 0 en la posición 0 es correcto\n",
      "El número 5 en la posición 3 es correcto\n",
      "Así va su adivinanza: 0xx5\n",
      "El usuario ha introducido 0715\n",
      "El número 0 en la posición 0 es correcto\n",
      "El número 7 en la posición 1 es correcto\n",
      "El número 1 en la posición 2 es correcto\n",
      "El número 5 en la posición 3 es correcto\n",
      "Así va su adivinanza: 0715\n",
      "¡Has ganado!, el número era 0715\n"
     ]
    }
   ],
   "source": [
    "longitud_secuencia = int(input(\"¿Cuantos números tiene la secuencia?\"))\n",
    "\n",
    "#generando secuencia aleatoria\n",
    "numeros_aleatorios = sample(range(0, 10), longitud_secuencia)\n",
    "secuencia_aleatoria = ''.join(map(str, numeros_aleatorios))\n",
    "\n",
    "#creando un diccionario donde las claves son las posiciones y los valores son los números en la secuencia aleatoria\n",
    "dic_secuencia_aleatoria = {i: secuencia_aleatoria[i] for i in range(longitud_secuencia)}\n",
    "\n",
    "while True:\n",
    "    numero_usuario = input(f\"Introduce un número de {longitud_secuencia} cifras para adivinar: \")\n",
    "\n",
    "    #verificando si la suposición tiene la longitud correcta\n",
    "    if len(numero_usuario) != longitud_secuencia:\n",
    "        print(f\"El número introducido no tiene la longitud correcta, ingrese uno de {longitud_secuencia} cifras\")\n",
    "        continue\n",
    "\n",
    "    print(f'El usuario ha introducido {numero_usuario}')\n",
    "    dic_numero_usuario = {i: numero_usuario[i] for i in range(longitud_secuencia)} #diccionario con la suposición del usuario\n",
    "\n",
    "    secuencia_adivinada = ['x'] * longitud_secuencia #lista para almacenar la secuencia adivinada\n",
    "\n",
    "    #comparando la suposición del usuario con la secuencia aleatoria\n",
    "    for i in range(longitud_secuencia):\n",
    "        if dic_secuencia_aleatoria[i] == dic_numero_usuario[i]:\n",
    "            print(f'El número {dic_numero_usuario[i]} en la posición {i} es correcto')\n",
    "            secuencia_adivinada[i] = dic_numero_usuario[i]  # Actualiza la secuencia adivinada\n",
    "\n",
    "    #convirtiendo la lista de la secuencia adivinada a una cadena\n",
    "    secuencia_adivinada = ''.join(secuencia_adivinada)\n",
    "    print(f'Así va su adivinanza: {secuencia_adivinada}')\n",
    "\n",
    "    #verificando si la suposición del usuario es correcta\n",
    "    if numero_usuario == secuencia_aleatoria:\n",
    "        print(f\"¡Has ganado!, el número era {secuencia_aleatoria}\")\n",
    "        break"
   ]
  },
  {
   "cell_type": "markdown",
   "metadata": {},
   "source": [
    "**2**. Definir una función que calcule la longitud de una lista o una cadena dada. (Es cierto que python\n",
    "tiene la funci ́on len() incorporada, pero escribirla por nosotros mismos resulta un muy buen ejercicio."
   ]
  },
  {
   "cell_type": "code",
   "execution_count": 13,
   "metadata": {},
   "outputs": [
    {
     "name": "stdout",
     "output_type": "stream",
     "text": [
      "4\n"
     ]
    }
   ],
   "source": [
    "def longitud(iterable) -> int:\n",
    "    \"\"\"\n",
    "    Esta función calcula la longitud de un iterable.\n",
    "\n",
    "    Parámetros:\n",
    "    iterable (iterable): El iterable cuya longitud queremos calcular.\n",
    "\n",
    "    Devuelve:\n",
    "    int: La longitud del iterable.\n",
    "    \"\"\"\n",
    "    contador = 0  #inicializa el contador en 0\n",
    "    for i in iterable:  #itera sobre cada elemento en el iterable\n",
    "        contador += 1  #incrementa el contador en 1 por cada elemento\n",
    "    return contador  #devuelve el numero de elementos en el iterable\n",
    "\n",
    "print(longitud([1, 2, 3, 4]))"
   ]
  },
  {
   "cell_type": "markdown",
   "metadata": {},
   "source": [
    "**3**. Realiza una función separar(lista) que tome una lista de números enteros y devuelva dos listas separadas en:\n",
    "La primera con los números pares y la segunda con los números impares."
   ]
  },
  {
   "cell_type": "code",
   "execution_count": 17,
   "metadata": {},
   "outputs": [
    {
     "name": "stdout",
     "output_type": "stream",
     "text": [
      "Lista de pares: [216, 746, 764, 500, 80, 204, 908, 198, 528, 802, 18, 598, 700, 218, 422, 62, 852, 664, 890, 718, 276, 756, 258, 778, 942, 500, 860, 436, 746, 232, 256, 148, 662, 850, 806, 476, 418, 724, 918, 860, 238, 768, 110, 966, 248, 458, 396, 260, 252, 216, 966, 872] \n",
      "Lista de impares: [13, 473, 797, 921, 877, 713, 101, 727, 539, 955, 323, 585, 275, 569, 693, 185, 11, 121, 781, 255, 945, 201, 987, 231, 229, 123, 399, 277, 795, 373, 901, 231, 45, 611, 505, 669, 491, 23, 687, 25, 25, 643, 919, 649, 421, 41, 87, 223]\n"
     ]
    }
   ],
   "source": [
    "def separar(lista: list) -> list:\n",
    "    \"\"\"\n",
    "    Esta función separa una lista de números en dos listas: una con los números pares y otra con los números impares.\n",
    "\n",
    "    Parámetros:\n",
    "    lista (list): La lista de números que queremos separar.\n",
    "\n",
    "    Devuelve:\n",
    "    list: Una tupla de dos listas. La primera lista contiene los números pares y la segunda lista contiene los números impares.\n",
    "    \"\"\"\n",
    "    #Inicializando listas de pares e impares\n",
    "    pares = []  \n",
    "    impares = []\n",
    "\n",
    "    for i in lista:\n",
    "        if i % 2 == 0:  #si el número es par\n",
    "            pares.append(i)\n",
    "        else:  #si el número es impar\n",
    "            impares.append(i)\n",
    "\n",
    "    return pares, impares\n",
    "\n",
    "pares, impares = separar(np.random.randint(1, 1000, 100))\n",
    "print(f'Lista de pares: {pares} \\nLista de impares: {impares}')"
   ]
  },
  {
   "cell_type": "markdown",
   "metadata": {},
   "source": [
    "**4**. Elabore un método para calcular los `x` numeros primos que existen en un intervalos dado por el usuario."
   ]
  },
  {
   "cell_type": "code",
   "execution_count": 15,
   "metadata": {},
   "outputs": [
    {
     "name": "stdout",
     "output_type": "stream",
     "text": [
      "[2, 3, 5, 7, 11, 13, 17, 19, 23, 29, 31, 37, 41, 43, 47, 53, 59, 61, 67, 71, 73, 79, 83, 89, 97]\n"
     ]
    }
   ],
   "source": [
    "def primos(rango: int) -> list:\n",
    "    \"\"\"\n",
    "    Esta función genera una lista de números primos en un rango dado.\n",
    "\n",
    "    Parámetros:\n",
    "    rango (int): El rango dentro del cual queremos encontrar números primos.\n",
    "\n",
    "    Devuelve:\n",
    "    list: Una lista de números primos dentro del rango dado.\n",
    "    \"\"\"\n",
    "    lista = []\n",
    "\n",
    "    for i in range(2, rango):  #itera sobre cada número en el rango\n",
    "        for j in range(2, i):  #itera sobre cada número desde 2 hasta i\n",
    "            if i % j == 0:  #si i es divisible por j, no es primo\n",
    "                break\n",
    "        else:  #si i no es divisible por ningún número desde 2 hasta i, es primo y lo añade a la lista\n",
    "            lista.append(i)\n",
    "\n",
    "    return lista\n",
    "\n",
    "print(primos(100))"
   ]
  },
  {
   "cell_type": "markdown",
   "metadata": {},
   "source": [
    "\n",
    "**5**. Entrar un arreglo de números y ordenarlos de forma ascendente, Ver algoritmo\n",
    "[Quicksort](https://es.wikipedia.org/wiki/Quicksort).\n",
    "\n",
    "\n",
    "```python"
   ]
  },
  {
   "cell_type": "code",
   "execution_count": 16,
   "metadata": {},
   "outputs": [
    {
     "name": "stdout",
     "output_type": "stream",
     "text": [
      "[17, 33, 487, 627, 703, 712, 739, 903, 912, 927, 1004, 1238, 1315, 1427, 1444, 1476, 1480, 1495, 1745, 1750, 1796, 1880, 1884, 2060, 2073, 2644, 2662, 2885, 2945, 3198, 3227, 3565, 3615, 3923, 4017, 4036, 4079, 4242, 4263, 4283, 4316, 4377, 4409, 4419, 4577, 4641, 4685, 4823, 4853, 4876, 4893, 5105, 5127, 5134, 5255, 5275, 5351, 5547, 5750, 5891, 5914, 6005, 6028, 6111, 6419, 6483, 6633, 6819, 6826, 6931, 6979, 6994, 7201, 7312, 7401, 7426, 7518, 8043, 8099, 8162, 8430, 8611, 8687, 8719, 8730, 8911, 8915, 8994, 9026, 9315, 9316, 9334, 9442, 9451, 9517, 9773, 9825, 9877, 9900, 9905]\n"
     ]
    }
   ],
   "source": [
    "def quicksort(arreglo: np.array) -> np.array:\n",
    "    \"\"\"\n",
    "    Ordena un array en orden ascendente utilizando el algoritmo de quicksort.\n",
    "\n",
    "    Parámetros:\n",
    "    arreglo (list): El array que se va a ordenar.\n",
    "\n",
    "    Devuelve:\n",
    "    list: El array ordenado.\n",
    "    \"\"\"\n",
    "    # Verifica si la lista está vacía o contiene solo un elemento\n",
    "    # En este caso, la lista ya está ordenada, por lo que la devolvemos tal cual\n",
    "    if len(arreglo) <= 1:\n",
    "        return arreglo\n",
    "\n",
    "    # Elemento pivot, estoy eligiendo el elemento del medio aquí\n",
    "    pivot = arreglo[len(arreglo) // 2]\n",
    "\n",
    "    # Divide la lista en tres partes\n",
    "    # 'izquierda' contiene elementos menores que el pivot\n",
    "    # 'centro' contiene elementos iguales al pivot\n",
    "    # 'derecha' contiene elementos mayores que el pivot\n",
    "    izquierda = [x for x in arreglo if x < pivot]\n",
    "    centro = [x for x in arreglo if x == pivot]\n",
    "    derecha = [x for x in arreglo if x > pivot]\n",
    "\n",
    "    # Ordena recursivamente 'izquierda' y 'derecha', y los combina con 'centro'\n",
    "    # Este es el resultado del quicksort\n",
    "    return quicksort(izquierda) + centro + quicksort(derecha)\n",
    "\n",
    "print(quicksort(np.random.randint(0, 10000, 100)))"
   ]
  }
 ],
 "metadata": {
  "kernelspec": {
   "display_name": "Python 3",
   "language": "python",
   "name": "python3"
  },
  "language_info": {
   "codemirror_mode": {
    "name": "ipython",
    "version": 3
   },
   "file_extension": ".py",
   "mimetype": "text/x-python",
   "name": "python",
   "nbconvert_exporter": "python",
   "pygments_lexer": "ipython3",
   "version": "3.11.2"
  }
 },
 "nbformat": 4,
 "nbformat_minor": 2
}
