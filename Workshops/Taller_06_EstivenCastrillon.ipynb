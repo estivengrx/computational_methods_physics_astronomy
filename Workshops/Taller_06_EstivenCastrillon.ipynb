{
  "cells": [
    {
      "cell_type": "markdown",
      "metadata": {
        "id": "iRpEloGJ-0DN"
      },
      "source": [
        "## Unidad 3:\n",
        "\n",
        "### Álgebra Lineal\n",
        "\n",
        "\n"
      ]
    },
    {
      "cell_type": "markdown",
      "metadata": {
        "id": "MBx-ordW3yxV"
      },
      "source": [
        "**1** Haga una rutina que encuentre la inversa de una matriz por medio de la adjunta y luego encuentre la solución de las matrices $M_1$ y $M_2$.\n",
        "\n",
        "**Nota** recuerde que la solucion de un sistema con el determinante se puede escribir como:\n",
        "$$A^{-1}=\\frac{1}{\\det(A)} \\cdot \\text{Adj}(A^T) $$\n",
        "Por lo que deberá crear una función que encuentre la $\\text{Adj}(A)^T$\n",
        "\n",
        "**Matrices de prueba**\n",
        "\n",
        "$$M_1= \\begin{bmatrix}\n",
        "2 & 1 & 3 &|+ 3 \\\\\n",
        "4 & -1 & 3 &|-4 \\\\\n",
        "-1 & 5 & 5 &|+ 9\n",
        "\\end{bmatrix}$$\n",
        "\n",
        "$$ M_2=\\begin{bmatrix}\n",
        "3 & 1 & 3 & -4 &|1 \\\\\n",
        "6 & 4 & 8 & -10 &|5 \\\\\n",
        "3 & 2 & 5 & -1 &|6 \\\\\n",
        "-9 & 5 & -2 & -4& |2\n",
        "\\end{bmatrix} $$"
      ]
    },
    {
      "cell_type": "code",
      "execution_count": 1,
      "metadata": {},
      "outputs": [],
      "source": [
        "import numpy as np"
      ]
    },
    {
      "cell_type": "markdown",
      "metadata": {
        "id": "Ad9jNe3b4XkF"
      },
      "source": [
        "**2** Las llamadas matrices de Pauli, están dadas por:\n",
        "\n",
        "\n",
        "$$\n",
        "σ_x={\\begin{pmatrix}0&1\\\\1&0\\end{pmatrix}},\n",
        "$$\n",
        "\n",
        "$$\n",
        "σ_y={\\begin{pmatrix}0&-i\\\\i&0\\end{pmatrix}},\n",
        "$$\n",
        "\n",
        "$$\n",
        "σ_z={\\begin{pmatrix}1&0\\\\0&-1\\end{pmatrix}},\n",
        "$$\n",
        "\n",
        "**A** Encuentre que $[σ_i,σ_j]\\neq 0$ con $i,j= x,y, z$\n",
        "\n",
        "**B** demuestre que ${σ_i}⁺={σ_i^*}^T=\\sigma_i$ lo que significa que sus autovalores son reales.\n",
        "\n",
        "**Nota** $[A,B]=AB-BA$\n"
      ]
    },
    {
      "cell_type": "code",
      "execution_count": null,
      "metadata": {},
      "outputs": [],
      "source": []
    },
    {
      "cell_type": "markdown",
      "metadata": {
        "id": "l6wWFrg48Ms6"
      },
      "source": [
        "**3** Repita el ejercicio anterior usando sympy, encuentre que en efecto sus autovalores son reales."
      ]
    },
    {
      "cell_type": "code",
      "execution_count": null,
      "metadata": {},
      "outputs": [],
      "source": []
    },
    {
      "cell_type": "markdown",
      "metadata": {
        "id": "hfpZJyuYMPdN"
      },
      "source": [
        "**4.** Considere el código de eliminación gaussiana de clase, Modifíquelo para encontrar el determinante de una matriz general."
      ]
    },
    {
      "cell_type": "code",
      "execution_count": 2,
      "metadata": {},
      "outputs": [],
      "source": [
        "# Función para multiplicar una fila por un escalar\n",
        "def row_lamb(i, lamb, A):\n",
        "    M = np.copy(A)\n",
        "    M[[i]] *= lamb\n",
        "    return M\n",
        "\n",
        "# Función para sumar una fila multiplicada por un escalar a otra fila\n",
        "def row_comb(i, j, lamb, A):\n",
        "    M = np.copy(A)\n",
        "    M[[i]] += lamb * M[[j]]\n",
        "    return M\n",
        "\n",
        "# Función para intercambiar dos filas\n",
        "def row_swap(i, j, A):\n",
        "    M = np.copy(A)\n",
        "    M[[i, j]] = M[[j, i]]\n",
        "    return M\n",
        "\n",
        "def determinante_matrz_eliminacion_g(A0):\n",
        "    if A0.shape[0] != A0.shape[1]:\n",
        "        raise ValueError('La matriz no es cuadrada')\n",
        "    # Hacemos una copia local de la matriz\n",
        "    A = np.copy(A0)\n",
        "    n = len(A)\n",
        "    b = np.full(n, 0) # Definimos el vector de ceros para la reducción\n",
        "    A0 = np.column_stack((A, b)) # Matriz aumentada\n",
        "    det_signo = 1 # Signo del determinante, el cual cambiará al hacer operaciones de intercambio de filas\n",
        "\n",
        "    for i in range( 0, n ): # Iteración sobre las filas\n",
        "        for j in range( i, n ): \n",
        "            if A[j,i] != 0:\n",
        "                # Coeficiente de normalización\n",
        "                Norm = 1.0*A[j,i]\n",
        "                break\n",
        "\n",
        "        # Operación de intercambio para poner el coeficiente no nulo en la i-ésima fila\n",
        "        if i != j: # Si la fila con el coeficiente no nulo no es la i-ésima\n",
        "            A = row_swap( i, j, A )\n",
        "            det_signo *= -1 # Cambio de signo en el determinante\n",
        "\n",
        "        # Eliminación el coeficiente asociado a la i-ésima variable\n",
        "        for j in range( i+1, n ):\n",
        "            A = row_comb( j, i, -A[j,i]/Norm, A )\n",
        "\n",
        "    A_triang_sup = row_lamb( n-1, 1.0/A[n-1,n-1], A ) # Normalización de la variable n-ésima\n",
        "    det = A_triang_sup.diagonal().prod() * det_signo # Determinante de la matriz como productoria de los elementos de la diagonal principal y signo\n",
        "\n",
        "    return A_triang_sup, det"
      ]
    },
    {
      "cell_type": "code",
      "execution_count": 6,
      "metadata": {},
      "outputs": [
        {
          "name": "stdout",
          "output_type": "stream",
          "text": [
            "Matriz original:\n",
            "[[1. 0. 1.]\n",
            " [1. 2. 4.]\n",
            " [0. 1. 3.]]\n",
            "\n",
            "La matriz escalonada es:\n",
            "[[1. 0. 1.]\n",
            " [0. 2. 3.]\n",
            " [0. 0. 1.]]\n",
            " y el determinante es: 2.0\n"
          ]
        }
      ],
      "source": [
        "# Prueba del anterior código\n",
        "A = np.array([[1, 0, 1], [1, 2, 4], [0, 1, 3]], dtype=float)\n",
        "A_triang_sup, determinante = determinante_matrz_eliminacion_g(A)\n",
        "print(f'Matriz original:\\n{A}\\n')\n",
        "print(f'La matriz escalonada es:\\n{A_triang_sup}\\n y el determinante es: {determinante}')"
      ]
    },
    {
      "cell_type": "code",
      "execution_count": 4,
      "metadata": {},
      "outputs": [
        {
          "data": {
            "text/plain": [
              "32.0"
            ]
          },
          "execution_count": 4,
          "metadata": {},
          "output_type": "execute_result"
        }
      ],
      "source": [
        "np.linalg.det(A) # Determinante calculado con numpy"
      ]
    },
    {
      "cell_type": "markdown",
      "metadata": {
        "id": "oBB8Jy3OVf7i"
      },
      "source": [
        "**5.** Considere el código de eliminación gaussiana de clase, Modifíquelo para encontrar la factorización PLU de una matriz general, tenga en cuenta que el código ya entrega la matriz U y solo es necesario crear L con las operaciones realizadas."
      ]
    },
    {
      "cell_type": "code",
      "execution_count": null,
      "metadata": {},
      "outputs": [],
      "source": []
    }
  ],
  "metadata": {
    "colab": {
      "provenance": []
    },
    "kernelspec": {
      "display_name": "Python 3",
      "name": "python3"
    },
    "language_info": {
      "codemirror_mode": {
        "name": "ipython",
        "version": 3
      },
      "file_extension": ".py",
      "mimetype": "text/x-python",
      "name": "python",
      "nbconvert_exporter": "python",
      "pygments_lexer": "ipython3",
      "version": "3.11.2"
    }
  },
  "nbformat": 4,
  "nbformat_minor": 0
}
