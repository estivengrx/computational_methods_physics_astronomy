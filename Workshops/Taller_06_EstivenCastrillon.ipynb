{
  "cells": [
    {
      "cell_type": "markdown",
      "metadata": {
        "id": "iRpEloGJ-0DN"
      },
      "source": [
        "## Unidad 3:\n",
        "\n",
        "### Álgebra Lineal\n",
        "\n",
        "\n"
      ]
    },
    {
      "cell_type": "markdown",
      "metadata": {
        "id": "MBx-ordW3yxV"
      },
      "source": [
        "**1** Haga una rutina que encuentre la inversa de una matriz por medio de la adjunta y luego encuentre la solución de las matrices $M_1$ y $M_2$.\n",
        "\n",
        "**Nota** recuerde que la solucion de un sistema con el determinante se puede escribir como:\n",
        "$$A^{-1}=\\frac{1}{\\det(A)} \\cdot (\\text{Adj}(A))^T $$\n",
        "Por lo que deberá crear una función que encuentre la $(\\text{Adj}(A))^T$\n",
        "\n",
        "**Matrices de prueba**\n",
        "\n",
        "$$M_1= \\begin{bmatrix}\n",
        "2 & 1 & 3 &|+ 3 \\\\\n",
        "4 & -1 & 3 &|-4 \\\\\n",
        "-1 & 5 & 5 &|+ 9\n",
        "\\end{bmatrix}$$\n",
        "\n",
        "$$ M_2=\\begin{bmatrix}\n",
        "3 & 1 & 3 & -4 &|1 \\\\\n",
        "6 & 4 & 8 & -10 &|5 \\\\\n",
        "3 & 2 & 5 & -1 &|6 \\\\\n",
        "-9 & 5 & -2 & -4& |2\n",
        "\\end{bmatrix} $$"
      ]
    },
    {
      "cell_type": "markdown",
      "metadata": {},
      "source": [
        "Por definición $A^{-1}=\\frac{1}{\\det(A)} \\cdot \\text{Adj}(A)$ y no como realmente se había planteado."
      ]
    },
    {
      "cell_type": "code",
      "execution_count": 43,
      "metadata": {},
      "outputs": [],
      "source": [
        "import numpy as np\n",
        "\n",
        "def dete(A):\n",
        "    if len(A)!=len(A[0]):\n",
        "        raise ValueError(\"La matriz debe ser cuadrada\")\n",
        "    det=0\n",
        "    if len(A)==1:\n",
        "        det=A[0]\n",
        "    elif len(A)==2:\n",
        "        det=A[0][0]*A[1][1]-A[1][0]*A[0][1]\n",
        "    else:\n",
        "        B=np.delete(A,0,axis=1)\n",
        "        for j in range(len(A)):\n",
        "            C=np.delete(B,j,axis=0)\n",
        "            det+=A[j][0]*(-1)**(j)*dete(C)\n",
        "    return det\n",
        "\n",
        "def adjunta(A):\n",
        "    A = np.copy(A)\n",
        "    n = len(A) # Número de filas de la matriz\n",
        "    if n != len(A[0]):\n",
        "        raise ValueError(\"La matriz debe ser cuadrada\")\n",
        "    \n",
        "    adjunta = np.zeros((n, n)) # Matriz adjunta de ceros para rellenar\n",
        "    for i in range(n):\n",
        "        for j in range(n):\n",
        "            matriz_definicion = np.delete(np.delete(A, j, 0), i, 1) # Matriz sin la fila i y la columna j\n",
        "            adjunta[i, j] = ((-1) ** (i + j)) * dete(matriz_definicion) # Definición de la adjunta\n",
        "    return adjunta"
      ]
    },
    {
      "cell_type": "code",
      "execution_count": 44,
      "metadata": {},
      "outputs": [
        {
          "name": "stdout",
          "output_type": "stream",
          "text": [
            "Inversa de M1 código:\n",
            "[[ 3.33333333 -1.66666667 -1.        ]\n",
            " [ 3.83333333 -2.16666667 -1.        ]\n",
            " [-3.16666667  1.83333333  1.        ]]\n",
            "\n",
            "\n",
            "Inversa de M2 código:\n",
            "[[ -9.41666667   4.29166667  -1.58333333  -0.91666667]\n",
            " [-14.75         6.625       -2.25        -1.25      ]\n",
            " [ 11.          -5.           2.           1.        ]\n",
            " [ -2.75         1.125       -0.25        -0.25      ]]\n",
            "\n",
            "\n",
            "Inversa de M1 numpy:\n",
            "[[ 3.33333333 -1.66666667 -1.        ]\n",
            " [ 3.83333333 -2.16666667 -1.        ]\n",
            " [-3.16666667  1.83333333  1.        ]]\n",
            "\n",
            "\n",
            "Inversa de M2 numpy:\n",
            "[[ -9.41666667   4.29166667  -1.58333333  -0.91666667]\n",
            " [-14.75         6.625       -2.25        -1.25      ]\n",
            " [ 11.          -5.           2.           1.        ]\n",
            " [ -2.75         1.125       -0.25        -0.25      ]]\n"
          ]
        }
      ],
      "source": [
        "M1 = np.array([[2, 1, 3],\n",
        "               [4, -1, 3],\n",
        "               [-1, 5, 5]])\n",
        "\n",
        "M2 = np.array([[3, 1, 3, -4],\n",
        "               [6, 4, 8, -10],\n",
        "               [3, 2, 5, -1],\n",
        "               [-9, 5, -2, -4]])\n",
        "\n",
        "M1_inversa = adjunta(M1) / dete(M1)\n",
        "M2_inversa = adjunta(M2) / dete(M2)\n",
        "\n",
        "# Resultados con el código hecho\n",
        "print(\"Inversa de M1 código:\")\n",
        "print(M1_inversa)\n",
        "print('\\n')\n",
        "print(\"Inversa de M2 código:\")\n",
        "print(M2_inversa)\n",
        "print('\\n')\n",
        "\n",
        "# Comprobación con numpy\n",
        "print(\"Inversa de M1 numpy:\")\n",
        "print(np.linalg.inv(M1))\n",
        "print('\\n')\n",
        "print(\"Inversa de M2 numpy:\")\n",
        "print(np.linalg.inv(M2))"
      ]
    },
    {
      "cell_type": "markdown",
      "metadata": {
        "id": "Ad9jNe3b4XkF"
      },
      "source": [
        "**2** Las llamadas matrices de Pauli, están dadas por:\n",
        "\n",
        "\n",
        "$$\n",
        "σ_x={\\begin{pmatrix}0&1\\\\1&0\\end{pmatrix}},\n",
        "$$\n",
        "\n",
        "$$\n",
        "σ_y={\\begin{pmatrix}0&-i\\\\i&0\\end{pmatrix}},\n",
        "$$\n",
        "\n",
        "$$\n",
        "σ_z={\\begin{pmatrix}1&0\\\\0&-1\\end{pmatrix}},\n",
        "$$\n",
        "\n",
        "**A** Encuentre que $[σ_i,σ_j]\\neq 0$ con $i,j= x,y, z$\n",
        "\n",
        "**B** demuestre que ${σ_i}⁺={σ_i^*}^T=\\sigma_i$ lo que significa que sus autovalores son reales.\n",
        "\n",
        "**Nota** $[A,B]=AB-BA$\n"
      ]
    },
    {
      "cell_type": "code",
      "execution_count": 45,
      "metadata": {},
      "outputs": [],
      "source": [
        "sigma_x = np.array([[0, 1], [1, 0]])\n",
        "sigma_y = np.array([[0, -1j], [1j, 0]])\n",
        "sigma_z = np.array([[1, 0], [0, -1]])"
      ]
    },
    {
      "cell_type": "markdown",
      "metadata": {
        "id": "l6wWFrg48Ms6"
      },
      "source": [
        "**3** Repita el ejercicio anterior usando sympy, encuentre que en efecto sus autovalores son reales."
      ]
    },
    {
      "cell_type": "code",
      "execution_count": null,
      "metadata": {},
      "outputs": [],
      "source": []
    },
    {
      "cell_type": "markdown",
      "metadata": {
        "id": "hfpZJyuYMPdN"
      },
      "source": [
        "**4.** Considere el código de eliminación gaussiana de clase, Modifíquelo para encontrar el determinante de una matriz general."
      ]
    },
    {
      "cell_type": "code",
      "execution_count": 46,
      "metadata": {},
      "outputs": [],
      "source": [
        "# Función para multiplicar una fila por un escalar\n",
        "def row_lamb(i, lamb, A):\n",
        "    M = np.copy(A)\n",
        "    M[[i]] *= lamb\n",
        "    return M\n",
        "\n",
        "# Función para sumar una fila multiplicada por un escalar a otra fila\n",
        "def row_comb(i, j, lamb, A):\n",
        "    M = np.copy(A)\n",
        "    M[[i]] += lamb * M[[j]]\n",
        "    return M\n",
        "\n",
        "# Función para intercambiar dos filas\n",
        "def row_swap(i, j, A):\n",
        "    M = np.copy(A)\n",
        "    M[[i, j]] = M[[j, i]]\n",
        "    return M\n",
        "\n",
        "def determinante_matrz_eliminacion_g(A0):\n",
        "    if A0.shape[0] != A0.shape[1]:\n",
        "        raise ValueError('La matriz no es cuadrada')\n",
        "    # Hacemos una copia local de la matriz\n",
        "    A = np.copy(A0)\n",
        "    n = len(A)\n",
        "    b = np.full(n, 0) # Definimos el vector de ceros para la reducción\n",
        "    A0 = np.column_stack((A, b)) # Matriz aumentada\n",
        "    det_signo = 1 # Signo del determinante, el cual cambiará al hacer operaciones de intercambio de filas\n",
        "\n",
        "    for i in range( 0, n ): # Iteración sobre las filas\n",
        "        for j in range( i, n ): \n",
        "            if A[j,i] != 0:\n",
        "                # Coeficiente de normalización\n",
        "                Norm = 1.0*A[j,i]\n",
        "                break\n",
        "\n",
        "        # Operación de intercambio para poner el coeficiente no nulo en la i-ésima fila\n",
        "        if i != j: # Si la fila con el coeficiente no nulo no es la i-ésima\n",
        "            A = row_swap( i, j, A )\n",
        "            det_signo *= -1 # Cambio de signo en el determinante\n",
        "\n",
        "        # Eliminación el coeficiente asociado a la i-ésima variable\n",
        "        for j in range( i+1, n ):\n",
        "            A = row_comb( j, i, -A[j,i]/Norm, A )\n",
        "\n",
        "    A_triang_sup = row_lamb( n-1, 1.0/A[n-1,n-1], A ) # Normalización de la variable n-ésima\n",
        "    det = A_triang_sup.diagonal().prod() * det_signo # Determinante de la matriz como productoria de los elementos de la diagonal principal y signo\n",
        "\n",
        "    return A_triang_sup, det"
      ]
    },
    {
      "cell_type": "code",
      "execution_count": 47,
      "metadata": {},
      "outputs": [
        {
          "name": "stdout",
          "output_type": "stream",
          "text": [
            "Matriz original:\n",
            "[[1. 0. 1.]\n",
            " [1. 2. 4.]\n",
            " [0. 1. 3.]]\n",
            "\n",
            "La matriz escalonada es:\n",
            "[[1. 0. 1.]\n",
            " [0. 2. 3.]\n",
            " [0. 0. 1.]]\n",
            " y el determinante es: 2.0\n"
          ]
        }
      ],
      "source": [
        "# Prueba del anterior código\n",
        "A = np.array([[1, 0, 1], [1, 2, 4], [0, 1, 3]], dtype=float)\n",
        "A_triang_sup, determinante = determinante_matrz_eliminacion_g(A)\n",
        "print(f'Matriz original:\\n{A}\\n')\n",
        "print(f'La matriz escalonada es:\\n{A_triang_sup}\\n y el determinante es: {determinante}')"
      ]
    },
    {
      "cell_type": "code",
      "execution_count": 48,
      "metadata": {},
      "outputs": [
        {
          "data": {
            "text/plain": [
              "2.9999999999999996"
            ]
          },
          "execution_count": 48,
          "metadata": {},
          "output_type": "execute_result"
        }
      ],
      "source": [
        "np.linalg.det(A) # Determinante calculado con numpy"
      ]
    },
    {
      "cell_type": "markdown",
      "metadata": {
        "id": "oBB8Jy3OVf7i"
      },
      "source": [
        "**5.** Considere el código de eliminación gaussiana de clase, Modifíquelo para encontrar la factorización PLU de una matriz general, tenga en cuenta que el código ya entrega la matriz U y solo es necesario crear L con las operaciones realizadas."
      ]
    },
    {
      "cell_type": "code",
      "execution_count": 49,
      "metadata": {},
      "outputs": [],
      "source": [
        "import numpy as np\n",
        "\n",
        "def row_lamb(i, lamb, A):\n",
        "    \"\"\"Multiplica la fila i por un factor lambda en la matriz A.\"\"\"\n",
        "    A[i] *= lamb\n",
        "    return A\n",
        "\n",
        "def row_comb(i, j, lamb, A):\n",
        "    \"\"\"Combina la fila i con la fila j multiplicada por un factor lambda en la matriz A.\"\"\"\n",
        "    A[i] -= lamb * A[j]\n",
        "    return A\n",
        "\n",
        "def row_swap(i, j, A):\n",
        "    \"\"\"Intercambia las filas i y j de la matriz A.\"\"\"\n",
        "    A[[i, j]] = A[[j, i]]\n",
        "    return A\n",
        "\n",
        "def Gaussian_Elimination_LU(A0):\n",
        "    # Making local copy of matrix\n",
        "    A = np.copy(A0)\n",
        "    # Detecting size of matrix\n",
        "    n = len(A)\n",
        "    # Initialize L as an identity matrix\n",
        "    L = np.eye(n)\n",
        "\n",
        "    # Sweeping all the columns in order to eliminate coefficients of the i-th variable\n",
        "    for i in range(0, n):\n",
        "        # Find index of maximum element in column i\n",
        "        max_index = np.abs(A[i:, i]).argmax() + i\n",
        "\n",
        "        # Swap rows i and max_index\n",
        "        A[[i, max_index]] = A[[max_index, i]]\n",
        "        L[[i, max_index]] = L[[max_index, i]]\n",
        "\n",
        "        # Normalization coefficient\n",
        "        Norm = 1.0 * A[i, i]\n",
        "\n",
        "        # Eliminating the coefficient associated to the i-th variable\n",
        "        for j in range(i + 1, n):\n",
        "            factor = A[j, i] / Norm\n",
        "            A[j] -= factor * A[i]\n",
        "            # Store the multiplier in L\n",
        "            L[j, i] = factor\n",
        "\n",
        "    # The LU decomposition is now (L, A)\n",
        "    return (L, A)"
      ]
    },
    {
      "cell_type": "markdown",
      "metadata": {},
      "source": [
        "Comprobación y solución:"
      ]
    },
    {
      "cell_type": "code",
      "execution_count": 50,
      "metadata": {},
      "outputs": [],
      "source": [
        "M2 = np.array([[2.,1.,3],[-1.,2,-1],[3,1,1]], dtype=float)"
      ]
    },
    {
      "cell_type": "code",
      "execution_count": 51,
      "metadata": {},
      "outputs": [
        {
          "name": "stdout",
          "output_type": "stream",
          "text": [
            "Matrices LU con el código proporcionado\n",
            "Matriz triangular superior: \n",
            "[[ 3.00000000e+00  1.00000000e+00  1.00000000e+00]\n",
            " [ 0.00000000e+00  2.33333333e+00 -6.66666667e-01]\n",
            " [ 0.00000000e+00 -5.55111512e-17  2.42857143e+00]]\n",
            "\n",
            "Matriz triangular inferior: \n",
            "[[ 0.          0.          1.        ]\n",
            " [-0.33333333  1.          0.        ]\n",
            " [ 0.66666667  0.14285714  0.        ]]\n"
          ]
        }
      ],
      "source": [
        "print('Matrices LU con el código proporcionado')\n",
        "triangular_sup_codigo = Gaussian_Elimination_LU(M2)[1]\n",
        "triangular_inf_codigo = Gaussian_Elimination_LU(M2)[0]\n",
        "print(f'Matriz triangular superior: \\n{triangular_sup_codigo}\\n')\n",
        "print(f'Matriz triangular inferior: \\n{triangular_inf_codigo}')"
      ]
    },
    {
      "cell_type": "code",
      "execution_count": 52,
      "metadata": {},
      "outputs": [
        {
          "name": "stdout",
          "output_type": "stream",
          "text": [
            "Matrices LU con scipy\n",
            "Matriz triangular superior: \n",
            "[[ 3.          1.          1.        ]\n",
            " [ 0.          2.33333333 -0.66666667]\n",
            " [ 0.          0.          2.42857143]]\n",
            "Matriz triangular inferior: \n",
            "[[ 1.          0.          0.        ]\n",
            " [-0.33333333  1.          0.        ]\n",
            " [ 0.66666667  0.14285714  1.        ]]\n",
            "\n"
          ]
        }
      ],
      "source": [
        "import scipy.linalg as LA\n",
        "print('Matrices LU con scipy')\n",
        "triangular_inferior = LA.lu(M2)[1:3][0]\n",
        "triangular_superior = LA.lu(M2)[1:3][1]\n",
        "print(f'Matriz triangular superior: \\n{triangular_superior}')\n",
        "print(f'Matriz triangular inferior: \\n{triangular_inferior}\\n')"
      ]
    }
  ],
  "metadata": {
    "colab": {
      "provenance": []
    },
    "kernelspec": {
      "display_name": "Python 3",
      "name": "python3"
    },
    "language_info": {
      "codemirror_mode": {
        "name": "ipython",
        "version": 3
      },
      "file_extension": ".py",
      "mimetype": "text/x-python",
      "name": "python",
      "nbconvert_exporter": "python",
      "pygments_lexer": "ipython3",
      "version": "3.11.2"
    }
  },
  "nbformat": 4,
  "nbformat_minor": 0
}
