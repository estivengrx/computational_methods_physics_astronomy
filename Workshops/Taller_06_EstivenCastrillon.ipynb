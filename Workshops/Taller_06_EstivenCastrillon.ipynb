{
  "cells": [
    {
      "cell_type": "markdown",
      "metadata": {
        "id": "iRpEloGJ-0DN"
      },
      "source": [
        "## Unidad 3:\n",
        "\n",
        "### Álgebra Lineal\n",
        "\n",
        "\n"
      ]
    },
    {
      "cell_type": "markdown",
      "metadata": {
        "id": "MBx-ordW3yxV"
      },
      "source": [
        "**1** Haga una rutina que encuentre la inversa de una matriz por medio de la adjunta y luego encuentre la solución de las matrices $M_1$ y $M_2$.\n",
        "\n",
        "**Nota** recuerde que la solucion de un sistema con el determinante se puede escribir como:\n",
        "$$A^{-1}=\\frac{1}{\\det(A)} \\cdot \\text{Adj}(A^T) $$\n",
        "Por lo que deberá crear una función que encuentre la $\\text{Adj}(A)^T$\n",
        "\n",
        "**Matrices de prueba**\n",
        "\n",
        "$$M_1= \\begin{bmatrix}\n",
        "2 & 1 & 3 &|+ 3 \\\\\n",
        "4 & -1 & 3 &|-4 \\\\\n",
        "-1 & 5 & 5 &|+ 9\n",
        "\\end{bmatrix}$$\n",
        "\n",
        "$$ M_2=\\begin{bmatrix}\n",
        "3 & 1 & 3 & -4 &|1 \\\\\n",
        "6 & 4 & 8 & -10 &|5 \\\\\n",
        "3 & 2 & 5 & -1 &|6 \\\\\n",
        "-9 & 5 & -2 & -4& |2\n",
        "\\end{bmatrix} $$"
      ]
    },
    {
      "cell_type": "code",
      "execution_count": null,
      "metadata": {
        "vscode": {
          "languageId": "plaintext"
        }
      },
      "outputs": [],
      "source": []
    },
    {
      "cell_type": "markdown",
      "metadata": {
        "id": "Ad9jNe3b4XkF"
      },
      "source": [
        "**2** Las llamadas matrices de Pauli, están dadas por:\n",
        "\n",
        "\n",
        "$$\n",
        "σ_x={\\begin{pmatrix}0&1\\\\1&0\\end{pmatrix}},\n",
        "$$\n",
        "\n",
        "$$\n",
        "σ_y={\\begin{pmatrix}0&-i\\\\i&0\\end{pmatrix}},\n",
        "$$\n",
        "\n",
        "$$\n",
        "σ_z={\\begin{pmatrix}1&0\\\\0&-1\\end{pmatrix}},\n",
        "$$\n",
        "\n",
        "**A** Encuentre que $[σ_i,σ_j]\\neq 0$ con $i,j= x,y, z$\n",
        "\n",
        "**B** demuestre que ${σ_i}⁺={σ_i^*}^T=\\sigma_i$ lo que significa que sus autovalores son reales.\n",
        "\n",
        "**Nota** $[A,B]=AB-BA$\n"
      ]
    },
    {
      "cell_type": "code",
      "execution_count": null,
      "metadata": {
        "vscode": {
          "languageId": "plaintext"
        }
      },
      "outputs": [],
      "source": []
    },
    {
      "cell_type": "markdown",
      "metadata": {
        "id": "l6wWFrg48Ms6"
      },
      "source": [
        "**3** Repita el ejercicio anterior usando sympy, encuentre que en efecto sus autovalores son reales."
      ]
    },
    {
      "cell_type": "code",
      "execution_count": null,
      "metadata": {
        "vscode": {
          "languageId": "plaintext"
        }
      },
      "outputs": [],
      "source": []
    },
    {
      "cell_type": "markdown",
      "metadata": {
        "id": "hfpZJyuYMPdN"
      },
      "source": [
        "**4.** Considere el código de eliminación gaussiana de clase, Modifíquelo para encontrar el determinante de una matriz general."
      ]
    },
    {
      "cell_type": "code",
      "execution_count": null,
      "metadata": {
        "vscode": {
          "languageId": "plaintext"
        }
      },
      "outputs": [],
      "source": []
    },
    {
      "cell_type": "markdown",
      "metadata": {
        "id": "oBB8Jy3OVf7i"
      },
      "source": [
        "**5.** Considere el código de eliminación gaussiana de clase, Modifíquelo para encontrar la factorización PLU de una matriz general, tenga en cuenta que el código ya entrega la matriz U y solo es necesario crear L con las operaciones realizadas."
      ]
    },
    {
      "cell_type": "code",
      "execution_count": null,
      "metadata": {
        "vscode": {
          "languageId": "plaintext"
        }
      },
      "outputs": [],
      "source": []
    }
  ],
  "metadata": {
    "colab": {
      "provenance": []
    },
    "kernelspec": {
      "display_name": "Python 3",
      "name": "python3"
    },
    "language_info": {
      "name": "python"
    }
  },
  "nbformat": 4,
  "nbformat_minor": 0
}
