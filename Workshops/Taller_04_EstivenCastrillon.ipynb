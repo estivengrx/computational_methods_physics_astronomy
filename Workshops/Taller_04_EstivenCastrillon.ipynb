{
  "cells": [
    {
      "cell_type": "markdown",
      "metadata": {
        "id": "OF6ymVC6bB_O"
      },
      "source": [
        "## Unidad 2:\n",
        "\n",
        "### Cálculo Numérico\n",
        "\n",
        "- Diferenciación."
      ]
    },
    {
      "cell_type": "markdown",
      "metadata": {
        "id": "Bf_4Y3OOezfo"
      },
      "source": [
        "**1.** En un cirtcuito con un voltaje de  y una inductancia de L, la primera ley de kirshhoff nos da la siguiente relación\n",
        "$$\\epsilon(t)=L\\frac{di}{dt}+Ri$$\n",
        "\n",
        "donde r, es la resistencia del ciruito, i es la corriente. Suponga que medimos la corriente con varios valores de t y obtenemos:\n",
        "\n",
        "$$t = 1.00, 1.01, 1.02, 1.03, 1.0$$\n",
        "\n",
        "$$i = 3.10, 3.12, 3.14, 3.18, 3.24$$\n",
        "\n",
        "donde t se mide en segundos, i se de en amper, la inductancia L es una constante de 0.98 herios, la resistencia es de 0.142 ohms. Aproxime el votaje  en los valores t=1.00, 1.01, 1.02, 1.03, 1.04 , para ello realice lo siguiente:\n",
        "\n",
        "**A** Construya un data frame de pandas con los valores de tiempo y corriente\n",
        "\n",
        "**B** Emplee un metodo calcular la derivada numérica.\n",
        "\n",
        "**C** Use la ley de kirshhoff para encontrar $\\epsilon$"
      ]
    },
    {
      "cell_type": "code",
      "execution_count": 1,
      "metadata": {},
      "outputs": [],
      "source": [
        "import pandas as pd\n",
        "import numpy as np\n",
        "import matplotlib.pyplot as plt\n",
        "from sympy import *"
      ]
    },
    {
      "cell_type": "code",
      "execution_count": 2,
      "metadata": {},
      "outputs": [
        {
          "data": {
            "text/html": [
              "<div>\n",
              "<style scoped>\n",
              "    .dataframe tbody tr th:only-of-type {\n",
              "        vertical-align: middle;\n",
              "    }\n",
              "\n",
              "    .dataframe tbody tr th {\n",
              "        vertical-align: top;\n",
              "    }\n",
              "\n",
              "    .dataframe thead th {\n",
              "        text-align: right;\n",
              "    }\n",
              "</style>\n",
              "<table border=\"1\" class=\"dataframe\">\n",
              "  <thead>\n",
              "    <tr style=\"text-align: right;\">\n",
              "      <th></th>\n",
              "      <th>tiempo(s)</th>\n",
              "      <th>corriente(A)</th>\n",
              "    </tr>\n",
              "  </thead>\n",
              "  <tbody>\n",
              "    <tr>\n",
              "      <th>0</th>\n",
              "      <td>1.00</td>\n",
              "      <td>3.10</td>\n",
              "    </tr>\n",
              "    <tr>\n",
              "      <th>1</th>\n",
              "      <td>1.01</td>\n",
              "      <td>3.12</td>\n",
              "    </tr>\n",
              "    <tr>\n",
              "      <th>2</th>\n",
              "      <td>1.02</td>\n",
              "      <td>3.14</td>\n",
              "    </tr>\n",
              "  </tbody>\n",
              "</table>\n",
              "</div>"
            ],
            "text/plain": [
              "   tiempo(s)  corriente(A)\n",
              "0       1.00          3.10\n",
              "1       1.01          3.12\n",
              "2       1.02          3.14"
            ]
          },
          "execution_count": 2,
          "metadata": {},
          "output_type": "execute_result"
        }
      ],
      "source": [
        "# A) data frame de pandas con los valores de tiempo y corriente\n",
        "t = [1, 1.01, 1.02, 1.03, 1.04] #segundos\n",
        "i = [3.10, 3.12, 3.14, 3.18, 3.24] #amperes\n",
        "L = 0.98 #henrios\n",
        "R = 0.142 #ohms\n",
        "\n",
        "data = pd.DataFrame({'tiempo(s)': t, 'corriente(A)': i})\n",
        "data.head(3)"
      ]
    },
    {
      "cell_type": "code",
      "execution_count": 3,
      "metadata": {},
      "outputs": [
        {
          "data": {
            "text/plain": [
              "[2.0, 2.0, 4.0, 6.0, 6.0]"
            ]
          },
          "execution_count": 3,
          "metadata": {},
          "output_type": "execute_result"
        }
      ],
      "source": [
        "# B) Método calcular la derivada numérica.\n",
        "\n",
        "def derivada_discreta(x,y):\n",
        "  dy=[]\n",
        "  for i in range(1,len(x)):\n",
        "    d=(y[i]-y[i-1])/(x[i]-x[i-1])\n",
        "    dy.append(d)\n",
        "  return dy\n",
        "\n",
        "derivada = derivada_discreta(data['tiempo(s)'], data['corriente(A)'])\n",
        "derivada.append(derivada[-1]) #agregar el último valor\n",
        "derivada"
      ]
    },
    {
      "cell_type": "code",
      "execution_count": 4,
      "metadata": {},
      "outputs": [
        {
          "data": {
            "text/plain": [
              "array([2.4002 , 2.40304, 4.36588, 6.33156, 6.34008])"
            ]
          },
          "execution_count": 4,
          "metadata": {},
          "output_type": "execute_result"
        }
      ],
      "source": [
        "# C) Ley de kirchhoff para encontrar e(t)\n",
        "e = L * np.array(derivada) + R * np.array(data['corriente(A)'])\n",
        "e"
      ]
    },
    {
      "cell_type": "markdown",
      "metadata": {
        "id": "q-9kFYh8fmm-"
      },
      "source": [
        "**2.** Supongamos que tienes una muestra de material radiactivo y deseas determinar la velocidad a la que disminuye la cantidad de material radioactivo en función del tiempo. El decaimiento radioactivo sigue una ley exponencial y se puede describir mediante la siguiente ecuación:\n",
        "\n",
        "$$N(t)=N_0e^{-\\lambda t}$$\n",
        "\n",
        "Donde:\n",
        "\n",
        "$N(t)$ es la cantidad de material radioactivo en el tiempo $t$\n",
        "\n",
        "$N_0$ es la cantidad inicial de material radioactivo.\n",
        "\n",
        "$\\lambda$ es una constante de decaimiento\n",
        "\n",
        "$t$ es el tiempo\n",
        "\n",
        "Para encontrar la tasa de cambio de $N(t)$ con respecto al tiempo $t$, es decir, la velocidad de decaimiento radioactivo, puedes calcular la derivada de $N(t)$ con respecto a $t$:\n",
        "\n",
        "**A** Encuentre la velocidad de decaimiento usando la libreria simbololica, luego paselo a una libreria numerica y grafique.\n",
        "\n",
        "**B** Encuentre la velocidad de decaimiento, usando la aproximación de la derivada y grafique.\n",
        "\n",
        "tome $λ=10^{-10}$ y $N_0=6.7x10^{21}$"
      ]
    },
    {
      "cell_type": "code",
      "execution_count": 17,
      "metadata": {},
      "outputs": [
        {
          "data": {
            "image/png": "[encoded data removed]",
            "text/plain": [
              "<Figure size 640x480 with 1 Axes>"
            ]
          },
          "metadata": {},
          "output_type": "display_data"
        },
        {
          "name": "stdout",
          "output_type": "stream",
          "text": [
            "Función de decaimiento radiactivo: 6.7e+21*exp(-1.0e-9*t)\n",
            "Derivada de la función de decaimiento radiactivo: -6700000000000.0*exp(-1.0e-9*t)\n"
          ]
        }
      ],
      "source": [
        "# Velocidad de decaimiento simbololica y numerica y gráfica\n",
        "t = symbols('t')\n",
        "N_0 = 6.7e21\n",
        "lambda_ = 10e-10\n",
        "# Forma simbolica del decaimiento radiactivo\n",
        "decaimiento = N_0 * exp(-lambda_ * t)\n",
        "\n",
        "# Forma numérica del decaimiento radiactivo\n",
        "decaimiento_num = lambdify(t, decaimiento, modules=['numpy'])\n",
        "\n",
        "# Derivada simbolica del decaimiento radiactivo\n",
        "decaimiento_derivada = decaimiento.diff(t)\n",
        "\n",
        "# Derivada numérica del decaimiento radiactivo\n",
        "decaimiento_derivada_num = lambdify(t, decaimiento.diff(t), modules=['numpy'])\n",
        "\n",
        "# Gráfica del decaimiento radiactivo\n",
        "t_nuevo = np.linspace(0, 10, 100)\n",
        "plt.plot(t_nuevo, decaimiento_derivada_num(t_nuevo), label='Velocidad de decaimiento (derivada)')\n",
        "plt.plot(t_nuevo, decaimiento_num(t_nuevo), label='Decaimiento radiactivo')\n",
        "plt.xlabel('Tiempo (s)')\n",
        "plt.ylabel('Decaimiento')\n",
        "plt.title('Decaimiento radiactivo')\n",
        "plt.legend()\n",
        "plt.show()\n",
        "\n",
        "print(f'Función de decaimiento radiactivo: {decaimiento}')\n",
        "print(f'Derivada de la función de decaimiento radiactivo: {decaimiento_derivada}')"
      ]
    },
    {
      "cell_type": "markdown",
      "metadata": {
        "id": "ou8b1nGZx6dP"
      },
      "source": [
        "**3.** Imagina un péndulo simple (una masa suspendida en un hilo) que oscila de un lado a otro. Quieres determinar cómo cambia la aceleración de la masa en función del tiempo durante su oscilación. La aceleración del péndulo en función del ángulo de desplazamiento\n",
        "\n",
        "θ se puede describir mediante la siguiente ecuación:\n",
        "\n",
        "$$\\frac{d^2θ}{dt^2}+\\frac{g}{L}sin(θ)=0$$\n",
        "\n",
        "$t$ = [0.0, 0.1, 0.2, 0.3, 0.4, 0.5, 0.6, 0.7, 0.8, 0.9, 1.0, 1.1, 1.2, 1.3, 1.4, 1.5, 1.6, 1.7, 1.8, 1.9, 2.0]\n",
        "\n",
        "$θ$ = [  0,   9.6,  18.2,  24.9,28.9,  29.9,  27.7,  22.6,15.1,   6.0,  -3.7, -13.0,-21.0, -26.8, -29.7, -29.4,-26.1 , -20.0, -11.7,  -2.,7.4])\n",
        "\n",
        "**A** Grafique la posicion vs el tiempo.\n",
        "\n",
        "**B** calcule la primera derivada y grafique.\n",
        "\n",
        "**C** Calcule la segunda derivada y grafique."
      ]
    },
    {
      "cell_type": "code",
      "execution_count": null,
      "metadata": {},
      "outputs": [],
      "source": []
    },
    {
      "cell_type": "markdown",
      "metadata": {
        "id": "QYTMXWJa14sK"
      },
      "source": [
        "**4** Repita el ejercicio anterior, pero ahora usando la libreria scipy."
      ]
    },
    {
      "cell_type": "code",
      "execution_count": null,
      "metadata": {},
      "outputs": [],
      "source": []
    },
    {
      "cell_type": "markdown",
      "metadata": {
        "id": "VbkPULalK3oI"
      },
      "source": [
        "**5** Plantee y resuelva un ejercicio donde use métodos de derivada numérica en Python."
      ]
    },
    {
      "cell_type": "code",
      "execution_count": null,
      "metadata": {
        "id": "yd974-X_oXNX"
      },
      "outputs": [],
      "source": []
    }
  ],
  "metadata": {
    "colab": {
      "provenance": []
    },
    "kernelspec": {
      "display_name": "Python 3",
      "name": "python3"
    },
    "language_info": {
      "codemirror_mode": {
        "name": "ipython",
        "version": 3
      },
      "file_extension": ".py",
      "mimetype": "text/x-python",
      "name": "python",
      "nbconvert_exporter": "python",
      "pygments_lexer": "ipython3",
      "version": "3.11.2"
    }
  },
  "nbformat": 4,
  "nbformat_minor": 0
}
