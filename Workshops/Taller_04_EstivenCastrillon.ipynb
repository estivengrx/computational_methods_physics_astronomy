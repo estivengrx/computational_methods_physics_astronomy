{
  "cells": [
    {
      "cell_type": "markdown",
      "metadata": {
        "id": "OF6ymVC6bB_O"
      },
      "source": [
        "## Unidad 2:\n",
        "\n",
        "### Cálculo Numérico\n",
        "\n",
        "- Diferenciación."
      ]
    },
    {
      "cell_type": "markdown",
      "metadata": {
        "id": "Bf_4Y3OOezfo"
      },
      "source": [
        "**1.** En un cirtcuito con un voltaje de  y una inductancia de L, la primera ley de kirshhoff nos da la siguiente relación\n",
        "$$\\epsilon(t)=L\\frac{di}{dt}+Ri$$\n",
        "\n",
        "donde r, es la resistencia del ciruito, i es la corriente. Suponga que medimos la corriente con varios valores de t y obtenemos:\n",
        "\n",
        "$$t = 1.00, 1.01, 1.02, 1.03, 1.0$$\n",
        "\n",
        "$$i = 3.10, 3.12, 3.14, 3.18, 3.24$$\n",
        "\n",
        "donde t se mide en segundos, i se de en amper, la inductancia L es una constante de 0.98 herios, la resistencia es de 0.142 ohms. Aproxime el votaje  en los valores t=1.00, 1.01, 1.02, 1.03, 1.04 , para ello realice lo siguiente:\n",
        "\n",
        "**A** Construya un data frame de pandas con los valores de tiempo y corriente\n",
        "\n",
        "**B** Emplee un metodo calcular la derivada numérica.\n",
        "\n",
        "**C** Use la ley de kirshhoff para en $\\epsilon$"
      ]
    },
    {
      "cell_type": "code",
      "execution_count": null,
      "metadata": {},
      "outputs": [],
      "source": []
    },
    {
      "cell_type": "markdown",
      "metadata": {
        "id": "q-9kFYh8fmm-"
      },
      "source": [
        "**2.** Supongamos que tienes una muestra de material radiactivo y deseas determinar la velocidad a la que disminuye la cantidad de material radioactivo en función del tiempo. El decaimiento radioactivo sigue una ley exponencial y se puede describir mediante la siguiente ecuación:\n",
        "\n",
        "$$N(t)=N_0e^{-\\lambda t}$$\n",
        "\n",
        "Donde:\n",
        "\n",
        "$N(t)$ es la cantidad de material radioactivo en el tiempo $t$\n",
        "\n",
        "$N_0$ es la cantidad inicial de material radioactivo.\n",
        "\n",
        "$\\lambda$ es una constante de decaimiento\n",
        "\n",
        "$t$ es el tiempo\n",
        "\n",
        "Para encontrar la tasa de cambio de $N(t)$ con respecto al tiempo $t$, es decir, la velocidad de decaimiento radioactivo, puedes calcular la derivada de $N(t)$ con respecto a $t$:\n",
        "\n",
        "**A** Encuentre la velocidad de decaimiento usando la libreria simbololica, luego paselo a una libreria numerica y grafique.\n",
        "\n",
        "**B** Encuentre la velocidad de decaimiento, usando la aproximación de la derivada y grafique.\n",
        "\n",
        "tome $λ=10^{-10}$ y $N_0=6.7x10^{21}$"
      ]
    },
    {
      "cell_type": "code",
      "execution_count": null,
      "metadata": {},
      "outputs": [],
      "source": []
    },
    {
      "cell_type": "markdown",
      "metadata": {
        "id": "ou8b1nGZx6dP"
      },
      "source": [
        "**3.** Imagina un péndulo simple (una masa suspendida en un hilo) que oscila de un lado a otro. Quieres determinar cómo cambia la aceleración de la masa en función del tiempo durante su oscilación. La aceleración del péndulo en función del ángulo de desplazamiento\n",
        "\n",
        "θ se puede describir mediante la siguiente ecuación:\n",
        "\n",
        "$$\\frac{d^2θ}{dt^2}+\\frac{g}{L}sin(θ)=0$$\n",
        "\n",
        "$t$ = [0.0, 0.1, 0.2, 0.3, 0.4, 0.5, 0.6, 0.7, 0.8, 0.9, 1.0, 1.1, 1.2, 1.3, 1.4, 1.5, 1.6, 1.7, 1.8, 1.9, 2.0]\n",
        "\n",
        "$θ$ = [  0,   9.6,  18.2,  24.9,28.9,  29.9,  27.7,  22.6,15.1,   6.0,  -3.7, -13.0,-21.0, -26.8, -29.7, -29.4,-26.1 , -20.0, -11.7,  -2.,7.4])\n",
        "\n",
        "**A** Grafique la posicion vs el tiempo.\n",
        "\n",
        "**B** calcule la primera derivada y grafique.\n",
        "\n",
        "**C** Calcule la segunda derivada y grafique."
      ]
    },
    {
      "cell_type": "code",
      "execution_count": null,
      "metadata": {},
      "outputs": [],
      "source": []
    },
    {
      "cell_type": "markdown",
      "metadata": {
        "id": "QYTMXWJa14sK"
      },
      "source": [
        "**4** Repita el ejercicio anterior, pero ahora usando la libreria scipy."
      ]
    },
    {
      "cell_type": "code",
      "execution_count": null,
      "metadata": {},
      "outputs": [],
      "source": []
    },
    {
      "cell_type": "markdown",
      "metadata": {
        "id": "VbkPULalK3oI"
      },
      "source": [
        "**5** Plantee y resuelva un ejercicio donde use métodos de derivada numérica en Python."
      ]
    },
    {
      "cell_type": "code",
      "execution_count": null,
      "metadata": {
        "id": "yd974-X_oXNX"
      },
      "outputs": [],
      "source": []
    }
  ],
  "metadata": {
    "colab": {
      "provenance": []
    },
    "kernelspec": {
      "display_name": "Python 3",
      "name": "python3"
    },
    "language_info": {
      "name": "python"
    }
  },
  "nbformat": 4,
  "nbformat_minor": 0
}
