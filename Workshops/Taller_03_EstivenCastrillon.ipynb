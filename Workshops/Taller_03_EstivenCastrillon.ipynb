{
  "cells": [
    {
      "cell_type": "markdown",
      "metadata": {
        "id": "mybRJALBexHx"
      },
      "source": [
        "## Unidad 2:\n",
        "\n",
        "## Taller #4\n",
        "\n",
        "### Interpolación\n",
        "\n",
        "- Interpolación Lineal\n",
        "- Interpolación de Lagrange\n",
        "- Interpolación de Newton\n",
        "- Interpolacón de Hermite\n"
      ]
    },
    {
      "cell_type": "markdown",
      "metadata": {
        "id": "dTTfMznNMr5H"
      },
      "source": [
        "**1** Supongamos que tienes un conjunto de datos que registra la posición de un objeto en movimiento en intervalos de tiempo iguales. Los datos son los siguientes: $t=[0,2,4,6,8]$ en segundos y $x=[0,20,80,180,320]$ en metros encuentra el pilnomio de iterpolación de lagrange implementado en clase, grafica y responde:\n",
        "\n",
        "¿Cuál es la posición del objeto en el instante de tiempo $t = 5$ segundos?"
      ]
    },
    {
      "cell_type": "code",
      "execution_count": null,
      "metadata": {},
      "outputs": [],
      "source": []
    },
    {
      "cell_type": "markdown",
      "metadata": {
        "id": "cCNOincbTFhl"
      },
      "source": [
        "**2** Concidere el problema anteriror y agrege los datos de $v=[10,15,25,30,35]$ en $m/s$ encuentre el polinomio de hermite implementado en clase y determine la posición del objeto en $t = 3.75$ segundos."
      ]
    },
    {
      "cell_type": "code",
      "execution_count": null,
      "metadata": {},
      "outputs": [],
      "source": []
    },
    {
      "cell_type": "markdown",
      "metadata": {
        "id": "PRksYmo3YzOx"
      },
      "source": [
        "**3** Supongamos que tienes datos de temperaturas registradas en diferentes momentos del día en una ubicación específica. Los datos son los siguientes:\n",
        "$t=[0,2,4,6,8]$ en horas y T=[20,22,24,27,30]. Consulte, utilice e implemente en python la interpolación de Horner para encontrar un polinomio que describa cómo varía la temperatura en función del tiempo.\n",
        "\n",
        "¿Cuál es la temperatura estimada a las 3 horas?\n",
        "\n",
        "¿Cuál es la temperatura estimada a las 5 horas?\n",
        "\n",
        "¿Cuál es la temperatura estimada a las 7 horas?"
      ]
    },
    {
      "cell_type": "code",
      "execution_count": null,
      "metadata": {},
      "outputs": [],
      "source": []
    },
    {
      "cell_type": "markdown",
      "metadata": {
        "id": "pGvduBZYb91f"
      },
      "source": [
        "**4** Imagina que estás analizando el movimiento de un automóvil que viaja por una carretera recta. Durante un viaje, se registraron la velocidad del automóvil en varios momentos. Los datos son los siguientes: $t=[0,2,4,6,8]$ en segundos y $v=[0,10,20,30,40]$ en $m/s$\n",
        "\n",
        "**A** Consulta el método de cubic spline e implementalo en python (sin libreria).\n",
        "\n",
        "**B**Utiliza esta función para calcular la velocidad estimada en los momentos dados (3 segundos y 5 segundos) y para encontrar el tiempo en el que la velocidad es igual a 35 m/s."
      ]
    },
    {
      "cell_type": "code",
      "execution_count": null,
      "metadata": {},
      "outputs": [],
      "source": []
    },
    {
      "cell_type": "markdown",
      "metadata": {
        "id": "_7CT5rV1bshx"
      },
      "source": [
        "**5** Supongamos que estás trabajando en un proyecto astronómico que involucra el seguimiento de un cometa en su órbita alrededor del Sol. Tienes datos de la posición del cometa registrados en diferentes momentos a lo largo de varios años. Los datos incluyen la distancia del cometa al Sol y el ángulo polar en coordenadas polares.\n",
        "\n",
        "Los datos disponibles son los siguientes:\n",
        "\n",
        "$t=[0,1,2,3,4,5]$ en años\n",
        "\n",
        "$D=[2.5,2.8,3.3,4.0,4.9,6.2]$ en UA\n",
        "\n",
        "$\\theta=[30,45,60,80,110,150]$ en grados\n",
        "\n",
        "Usa tres métodos de interpolación de python (libreria) que sean de su elección para encontrar el polinomio de interpolación y responder:\n",
        "\n",
        "¿Cuál es la distancia estimada del cometa al Sol y el ángulo polar en $t = 2.5$ años?\n",
        "\n",
        "¿En qué año el cometa alcanzará su máxima distancia al Sol?\n",
        "\n",
        "¿Cuál es el ángulo polar estimado en ese momento?"
      ]
    },
    {
      "cell_type": "code",
      "execution_count": null,
      "metadata": {
        "id": "qhPN0wRHIxCb"
      },
      "outputs": [],
      "source": []
    }
  ],
  "metadata": {
    "colab": {
      "provenance": []
    },
    "kernelspec": {
      "display_name": "Python 3",
      "name": "python3"
    },
    "language_info": {
      "name": "python"
    }
  },
  "nbformat": 4,
  "nbformat_minor": 0
}
