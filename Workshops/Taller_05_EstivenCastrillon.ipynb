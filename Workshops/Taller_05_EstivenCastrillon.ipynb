{
  "cells": [
    {
      "cell_type": "code",
      "execution_count": 2,
      "metadata": {},
      "outputs": [],
      "source": [
        "import numpy as np\n",
        "import matplotlib.pyplot as plt\n",
        "from math import factorial"
      ]
    },
    {
      "cell_type": "markdown",
      "metadata": {
        "id": "InRxl9pGV6Mi"
      },
      "source": [
        "## Unidad 3:\n",
        "\n",
        "### Cálculo Numérico\n",
        "\n",
        "- Integración."
      ]
    },
    {
      "cell_type": "markdown",
      "metadata": {
        "id": "1VwCwGdSjCip"
      },
      "source": [
        "**1** Resolver las siguientes integrales con los métodos propuestos. (Simpson, trapecio impropias)\n",
        "\n",
        "a) $\\int_0^1 \\frac{x^4(1-x)^4}{1+x^2}\\;\\mathrm{d}x=\\frac{22}{7}-\\pi.$\n",
        "\n",
        "b) $\\int_0^\\infty \\frac{x^3}{e^x-1}\\;\\mathrm{d}x=\\frac{\\pi^4}{15}$ (aparece en teoría de Debye para la capacidad calorica en crystales).\n",
        "\n",
        "c) $\\int_0^1 x^{-x}\\;\\mathrm{d}x=\\sum_{n=1}^\\infty n^{-n}$ (conocida como \"Sophomore's dream\").\n",
        "\n",
        "d) $\\int_0^1 [\\ln(1/x)]^p\\;\\mathrm{d}x=p!$ si $0 \\le p \\le 10$.\n",
        "\n",
        "e) $\\int_0^{2\\pi} e^{z\\cos\\theta}\\;\\mathrm{d}\\theta=2\\pi I_0(z)$ (donde $I_0(z)$ es la función de Bessel de primera clase definida en $0 \\le z \\le 2$).\n",
        "\n",
        "f) $\\int _{0}^{\\infty }\\cos t^{2}\\,dt=\\int _{0}^{\\infty }\\sin t^{2}\\,dt={\\sqrt {\\frac {\\pi }{8}}}$.\n",
        "\n",
        "Compare los resultados de los algoritmos dados en este capítulo a los dados por `scipy` o `sympy`.\n",
        "\n",
        "b y f opcional, Bonus de 1pt (pista: hacer metodo de gauss-hermite)"
      ]
    },
    {
      "cell_type": "code",
      "execution_count": 4,
      "metadata": {},
      "outputs": [],
      "source": [
        "# Método de Monte Carlo para el cálculo de integrales definidas\n",
        "def Von_Neumann(f, a, b, N):\n",
        "    # Generar un conjunto de puntos en el intervalo [a, b]\n",
        "    x_points = np.linspace(a, b, num=1000)\n",
        "\n",
        "    # Calcular la función en estos puntos\n",
        "    y_points = f(x_points)\n",
        "\n",
        "    # Tomar el mínimo y el máximo\n",
        "    m = np.min(y_points)\n",
        "    M = np.max(y_points)\n",
        "\n",
        "    Nmax = 0\n",
        "    Nmenos = 0\n",
        "    for i in range(N):\n",
        "       x = np.random.uniform(a, b)\n",
        "       y = np.random.uniform(-m, M)\n",
        "       # punto dentro del área positiva de la integral\n",
        "       if (y > 0) and (y < f(x)): \n",
        "           Nmax += 1\n",
        "       # punto dentro del área negativa de la integral\n",
        "       if (y < 0) and (y > f(x)): \n",
        "           Nmenos += 1\n",
        "\n",
        "    # la integral es el área positiva menos el área negativa\n",
        "    #  y el área del rectángulo es 2W0(b-a).\n",
        "    I = (Nmax - Nmenos) / N * (M + m) * (b - a)\n",
        "\n",
        "    return I\n",
        "\n",
        "# Método de Simpson 3/8 para el cálculo de integrales definidas\n",
        "def Simpson3_8(f, a, b, particiones):\n",
        "   h = (b - a) / particiones\n",
        "   S = f(a) + f(b)\n",
        "   for i in range(1, particiones):  # suma en 1, ..., n-1\n",
        "        x = a + i * h\n",
        "        if i % 3 == 0:\n",
        "            S += 2 * f(x)  # suma de términos donde i es múltiplo de tres\n",
        "        else:\n",
        "            S += 3 * f(x)  # suma de términos donde i no es múltiplo de tres\n",
        "\n",
        "   return S * (3 * h / 8)"
      ]
    },
    {
      "cell_type": "code",
      "execution_count": 16,
      "metadata": {},
      "outputs": [
        {
          "name": "stdout",
          "output_type": "stream",
          "text": [
            "Valor de la integral, literal a) 0.0012644892599587715\n",
            "Valor esperado: 0.0012644892673496777\n",
            "Valor de la integral con scipy: 0.0012644892673496185\n",
            "\n",
            "Valor de la integral, literal c) 1.2887634691005994\n",
            "Valor esperado: 1.2912859970626636\n",
            "Valor de la integral con scipy: 1.2912859970626633\n",
            "\n",
            "Valor de la integral, literal d) 1.8745636967479757\n",
            "Valor esperado: 2\n",
            "Valor de la integral con scipy: 1.9999999999999991\n",
            "\n",
            "El valor de la integral, literal e) 7.9122137467428635\n",
            "Valor esperado: 7.954926521012844\n",
            "Valor de la integral con scipy: 7.954926521012844\n",
            "\n"
          ]
        }
      ],
      "source": [
        "# Integración con scipy\n",
        "from scipy.integrate import quad\n",
        "\n",
        "# a)\n",
        "a = lambda x: (x**4*(1-x)**4) / (1 + x**2)\n",
        "valor_esperado_a = 22/7 - np.pi\n",
        "print(f'Valor de la integral, literal a) {Simpson3_8(a, 0, 1, 100)}')\n",
        "print(f'Valor esperado: {valor_esperado_a}')\n",
        "print(f'Valor de la integral con scipy: {quad(a, 0, 1)[0]}\\n')\n",
        "\n",
        "# c)\n",
        "c = lambda x: x**(-x)\n",
        "valor_esperado_c = 0\n",
        "for i in range(1, 1000):\n",
        "    valor_esperado_c += i ** (-i)\n",
        "\n",
        "print(f'Valor de la integral, literal c) {Simpson3_8(c, 0, 1, 100)}')\n",
        "print(f'Valor esperado: {valor_esperado_c}')\n",
        "print(f'Valor de la integral con scipy: {quad(c, 0, 1)[0]}\\n')\n",
        "\n",
        "# d)\n",
        "p = 2\n",
        "d = lambda x: (np.log(1/x))**p\n",
        "valor_esperado_d = factorial(p)\n",
        "print(f'Valor de la integral, literal d) {Von_Neumann(d, 0.0001, 1, 10000)}')\n",
        "print(f'Valor esperado: {valor_esperado_d}')\n",
        "print(f'Valor de la integral con scipy: {quad(d, 0, 1)[0]}\\n')\n",
        "\n",
        "# e)\n",
        "z = 1\n",
        "e = lambda x: np.exp(z * np.cos(x))\n",
        "\n",
        "# Función de Bessel de primera clase\n",
        "def bessel_I0(z, terms=50):\n",
        "    result = 0\n",
        "    for k in range(terms):\n",
        "        result += ((z / 2) ** (2 * k)) / ((factorial(k)) ** 2)\n",
        "    return result\n",
        "\n",
        "valor_esperado_e = 2 * np.pi * bessel_I0(z)\n",
        "print(f'El valor de la integral, literal e) {Simpson3_8(e, 0, 2 * np.pi, 100)}')\n",
        "print(f'Valor esperado: {valor_esperado_e}')\n",
        "print(f'Valor de la integral con scipy: {quad(e, 0, 2 * np.pi)[0]}\\n')"
      ]
    },
    {
      "cell_type": "markdown",
      "metadata": {},
      "source": [
        "Puntos extra, integrales impropias por método de Gauss-Hermite"
      ]
    },
    {
      "cell_type": "markdown",
      "metadata": {},
      "source": [
        "b) $\\int_0^\\infty \\frac{x^3}{e^x-1}\\;\\mathrm{d}x=\\frac{\\pi^4}{15}$ (aparece en teoría de Debye para la capacidad calorica en crystales).\n",
        "\n",
        "f) $\\int _{0}^{\\infty }\\cos t^{2}\\,dt=\\int _{0}^{\\infty }\\sin t^{2}\\,dt={\\sqrt {\\frac {\\pi }{8}}}$.\n",
        "\n",
        "Veamos que la integral f) es igual a:\n",
        "$$ \\int _{0}^{\\infty }\\cos t^{2}\\,dt= \\frac{1}{2} \\int_{-\\infty}^{\\infty} \\cos(t^2) \\, dt={\\sqrt {\\frac {\\pi }{8}}}$$\n",
        "ya que $cos(t^2)$ y $sin(t^2)$ son funciones pares."
      ]
    },
    {
      "cell_type": "markdown",
      "metadata": {},
      "source": [
        "*NOTA:* El método de Gauss Hermite es utilizado para resolver integrales de la forma  $\\int_{-\\infty}^{\\infty} e^{-x^2} \\, dx$\n",
        "- Sabemos que $\\cos(t^2) = \\frac{e^{it^2}}{2} + \\frac{e^{-it^2}}{2}$ "
      ]
    },
    {
      "cell_type": "code",
      "execution_count": 101,
      "metadata": {},
      "outputs": [
        {
          "data": {
            "text/plain": [
              "0.6266570686577501"
            ]
          },
          "execution_count": 101,
          "metadata": {},
          "output_type": "execute_result"
        }
      ],
      "source": [
        "np.sqrt(np.pi/8)"
      ]
    },
    {
      "cell_type": "code",
      "execution_count": 118,
      "metadata": {},
      "outputs": [
        {
          "name": "stdout",
          "output_type": "stream",
          "text": [
            "Valor de la integral, literal e) (1.376996331853154+0.5703705559915792j)\n",
            "Valor de la integral, literal e) 1.2533141373155006\n"
          ]
        }
      ],
      "source": [
        "def euler_positive(x):\n",
        "    return np.exp(1j*x**2)\n",
        "\n",
        "def euler_negative(x):\n",
        "    return np.exp(-x**2)\n",
        "\n",
        "# Aplicando el método de cuadratura de Gauss-Hermite para calcular las anteriores integrales\n",
        "def Gauss_Hermite(f, N):\n",
        "    # Definir los pesos y los nodos\n",
        "    x, w = np.polynomial.hermite.hermgauss(N)\n",
        "\n",
        "    # Calcular la integral\n",
        "    integral = 0\n",
        "    for i in range(N):\n",
        "        integral += w[i] * f(x[i])\n",
        "\n",
        "    return integral\n",
        "\n",
        "print(f'Valor de la integral, literal e) {Gauss_Hermite(euler_positive, 100)}')\n",
        "print(f'Valor de la integral, literal e) {Gauss_Hermite(euler_negative, 100)}')"
      ]
    },
    {
      "cell_type": "code",
      "execution_count": 115,
      "metadata": {},
      "outputs": [
        {
          "data": {
            "text/plain": [
              "0.688498165926577"
            ]
          },
          "execution_count": 115,
          "metadata": {},
          "output_type": "execute_result"
        }
      ],
      "source": [
        "1.376996331853154/2"
      ]
    },
    {
      "cell_type": "code",
      "execution_count": 96,
      "metadata": {},
      "outputs": [
        {
          "name": "stdout",
          "output_type": "stream",
          "text": [
            "1.3769892273804147\n"
          ]
        }
      ],
      "source": [
        "import numpy as np\n",
        "from scipy.special import roots_hermite\n",
        "from scipy.integrate import quad\n",
        "\n",
        "# Define the function to integrate\n",
        "def f(x):\n",
        "    return np.exp(-1j * x**2) / 2 + np.exp(1j * x**2) / 2\n",
        "\n",
        "# Number of points to use in the quadrature\n",
        "N = 10\n",
        "\n",
        "# Get the roots and weights for Gauss-Hermite quadrature\n",
        "x, w = roots_hermite(N)\n",
        "\n",
        "# Calculate the integral\n",
        "integral = np.sum(w * f(x))\n",
        "\n",
        "# The result is complex, take the real part\n",
        "integral = integral.real\n",
        "\n",
        "print(integral)"
      ]
    },
    {
      "cell_type": "code",
      "execution_count": 99,
      "metadata": {},
      "outputs": [
        {
          "name": "stdout",
          "output_type": "stream",
          "text": [
            "Límite de S(x) cuando x tiende a infinito: 0.626657068657750\n",
            "Límite de C(x) cuando x tiende a infinito: 0.626657068657750\n"
          ]
        }
      ],
      "source": [
        "from sympy import symbols, sin, cos, integrate, oo, limit\n",
        "\n",
        "# Definir los símbolos x y t\n",
        "x, t = symbols('x t')\n",
        "\n",
        "# Definir las funciones S(x) y C(x)\n",
        "S = integrate(sin(t**2), (t, 0, x))\n",
        "C = integrate(cos(t**2), (t, 0, x))\n",
        "\n",
        "# Calcular los límites cuando x tiende a infinito\n",
        "limit_S = limit(S, x, oo).evalf()\n",
        "limit_C = limit(C, x, oo).evalf()\n",
        "\n",
        "print(\"Límite de S(x) cuando x tiende a infinito:\", limit_S)\n",
        "print(\"Límite de C(x) cuando x tiende a infinito:\", limit_C)\n"
      ]
    },
    {
      "cell_type": "code",
      "execution_count": 86,
      "metadata": {},
      "outputs": [
        {
          "name": "stdout",
          "output_type": "stream",
          "text": [
            "0.484375\n",
            "2224881148046432.0\n",
            "2.1770825845025828e-16 1.1612533628958522e-14\n"
          ]
        },
        {
          "name": "stderr",
          "output_type": "stream",
          "text": [
            "C:\\Users\\User\\AppData\\Local\\Temp\\ipykernel_1900\\1321533683.py:6: IntegrationWarning: The maximum number of subdivisions (50) has been achieved.\n",
            "  If increasing the limit yields no improvement it is advised to analyze \n",
            "  the integrand in order to determine the difficulties.  If the position of a \n",
            "  local difficulty can be determined (singularity, discontinuity) one will \n",
            "  probably gain from splitting up the interval and calling the integrator \n",
            "  on the subranges.  Perhaps a special-purpose integrator should be used.\n",
            "  abs_ig, abs_err = integrate.quad(lambda t: abs(f(t)), -np.inf, np.inf)\n",
            "C:\\Users\\User\\AppData\\Local\\Temp\\ipykernel_1900\\1321533683.py:7: IntegrationWarning: The occurrence of roundoff error is detected, which prevents \n",
            "  the requested tolerance from being achieved.  The error may be \n",
            "  underestimated.\n",
            "  ig, err = integrate.quad(f, -np.inf, np.inf)\n"
          ]
        }
      ],
      "source": [
        "import numpy as np\n",
        "from scipy import integrate, special\n",
        "\n",
        "f = lambda t: np.exp(-t**2) * special.eval_hermite(12, t) * special.eval_hermite(16, t)\n",
        "\n",
        "abs_ig, abs_err = integrate.quad(lambda t: abs(f(t)), -np.inf, np.inf)\n",
        "ig, err = integrate.quad(f, -np.inf, np.inf)\n",
        "\n",
        "print(ig)\n",
        "# -10.203125\n",
        "print(abs_ig)\n",
        "# 2.22488114805e+15\n",
        "print(ig / abs_ig, err / abs_ig)\n",
        "# -4.58591912155e-15  1.18053770382e-14"
      ]
    },
    {
      "cell_type": "markdown",
      "metadata": {
        "id": "vt_FyDJGkWij"
      },
      "source": [
        "**2** La [capacidad calorífica](https://es.wikipedia.org/wiki/Capacidad_calor%C3%ADfica) o capacidad térmica de un cuerpo, $C_V$, se define como el cociente entre la cantidad de energía calorífica transferida a un cuerpo y el cambio de temperatura que experimenta, es decir, $C_V$, mide la energía necesaria para aumentar la temperatura de un cuerpo en una unidad de temperatura. Según la teoría de Debye la capacidad calórica es dada por la integral,\n",
        "\n",
        "$$\n",
        "\\frac {C_{V}}{Nk}=9\\left({T \\over T_{\\rm {D}}}\\right)^{3}\\int _{0}^{T_{\\rm {D}}/T}{x^{4}e^{x} \\over \\left(e^{x}-1\\right)^{2}}\\,dx,\n",
        "$$\n",
        "\n",
        "donde $T_D$ es la temperatura de Debye, $k$ es la constate de Bolzmann y $N$ el número de partículas contenidas en el volumen $V$.\n",
        "\n",
        "a) Use los métodos de integración para graficar la capacidad calórica, $C_V/3Nk$, como función de $T/T_D$ en el intervalo $[0,1.5]$.\n",
        "\n",
        "b) Einstein había propuesto inicialmente el modelo,\n",
        "\n",
        "$$\\frac{C_V}{3Nk}=\\left({\\epsilon\\over k T}\\right)^2{e^{\\epsilon/kT}\\over \\left(e^{\\epsilon/kT}-1\\right)^2},$$\n",
        "\n",
        "con energía dada por $\\frac{\\epsilon}{kT_D} = \\frac{\\hbar \\omega}{kT_D} = \\sqrt{3}\\frac{\\pi}{6}=0.805995977$, donde $\\omega$ es definida como la frecuencia del oscilador usado en el modelo de Einstein.\n",
        "Grafique y compare al modelo de Debye."
      ]
    },
    {
      "cell_type": "code",
      "execution_count": 7,
      "metadata": {},
      "outputs": [
        {
          "data": {
            "image/png": "[encoded data removed]",
            "text/plain": [
              "<Figure size 1000x600 with 1 Axes>"
            ]
          },
          "metadata": {},
          "output_type": "display_data"
        }
      ],
      "source": [
        "import numpy as np\n",
        "import matplotlib.pyplot as plt\n",
        "\n",
        "# Modelo de Debye\n",
        "# Integral del modelo de Debye\n",
        "def integral_debye(x):\n",
        "    return x**4 * np.exp(x) / (np.exp(x) - 1)**2\n",
        "\n",
        "# Cv/3Nk en función de T/T_D\n",
        "def modelo_debye(ratio_T, n=1000):\n",
        "    integral = Simpson3_8(integral_debye, 0.01, 1/ratio_T, n)\n",
        "    return 3 * ratio_T**3 * integral\n",
        "\n",
        "# Modelo de Einstein\n",
        "# Cv/3Nk en función de E/kT calculado con T/T_D considerando E/kT = sqrt(3) * pi**2 / 6\n",
        "def modelo_einstein(ratio_T_TD, n=1000):\n",
        "    epsilon_k_T = np.sqrt(3) * np.pi/6 * ratio_T_TD\n",
        "    Cv_3Nk_einstein = epsilon_k_T**2 * np.exp(epsilon_k_T) / (np.exp(epsilon_k_T) - 1)**2\n",
        "    return Cv_3Nk_einstein\n",
        "\n",
        "# Valores de T/T_D\n",
        "ratios_T = np.linspace(0.01, 1.5, 100)  # comienza desde 0.01 para evitar la división por cero\n",
        "\n",
        "# Capacidades de calor para los modelos de Debye y Einstein\n",
        "Cv_debye = np.array([modelo_debye(ratio_T) for ratio_T in ratios_T])\n",
        "Cv_einstein = np.array([modelo_einstein(1/ratio_T) for ratio_T in ratios_T])\n",
        "\n",
        "plt.figure(figsize=(10, 6))\n",
        "\n",
        "plt.plot(ratios_T, Cv_debye, label='Modelo de Debye', color='blue', linestyle='-')\n",
        "plt.plot(ratios_T, Cv_einstein, label='Modelo de Einstein', color='red', linestyle='--')\n",
        "\n",
        "plt.title('Capacidad calorífica en función de la temperatura para los modelos de Debye y Einstein')\n",
        "plt.xlabel('T/T_D (Debye), E/kT (Einstein)')\n",
        "plt.ylabel('C_V/3Nk')\n",
        "plt.grid(True)\n",
        "plt.legend()\n",
        "plt.show()"
      ]
    },
    {
      "cell_type": "markdown",
      "metadata": {
        "id": "xWpnQEWusLmh"
      },
      "source": [
        "**3** **Por librería o elección** En electromagnetismo se puede demostrar que el potencial producido por un anillo de radio $a=1.0$ m en el plano $xy$ con distribución de carga $\\lambda$, en un punto P fuera del eje $z$ es dado por,\n",
        "\n",
        "$$V = \\frac{\\lambda}{2 \\pi \\varepsilon_0}\\sqrt{\\frac{am}{x}} K(m)$$\n",
        "\n",
        "donde,\n",
        "\n",
        "$$m = \\frac{2}{1 + \\frac{z^{2} + x^{2} + a^{2}}{2 a x}},$$\n",
        "\n",
        "y $K(m)$ es la integral elíptica completa de primera especie definida como,\n",
        "\n",
        "$$K(m) = \\int_{0}^{\\pi/2} \\frac{d  \\phi}{\\sqrt{1 - m \\text{sen}^{2}(\\phi)}}$$\n",
        "\n",
        "a) Si  $\\frac{\\lambda}{2\\pi\\varepsilon_0}=1.0$, ¿cuál es el potencial eléctrico en el punto $(x,y,z)=(1.5,0,1.0)$?<br>\n",
        "\n",
        "b) Grafique la solución para el caso en que $-100<x<100$ use pasos de $0.01$. ¿Qué puede concluir de la gráfica?si $z=cte$\n",
        "\n",
        "c) La solución analítica es dada por la serie,\n",
        "\n",
        "$$ K(m)={\\frac {\\pi }{2}}\\sum _{n=0}^{\\infty }\\left({\\frac {(2n)!}{2^{2n}(n!)^{2}}}\\right)^{2}m^{n}={\\frac {\\pi }{2}}\\sum _{n=0}^{\\infty }{\\bigl (}P_{2n}(0){\\bigr )}^{2}m^{n},$$\n",
        "\n",
        "donde y $P_n$ son los [polinomios de Legendre](#MATERIAL_COMPLEMENTARIO). Equivalentemente, también,\n",
        "\n",
        "$$K(m)={\\frac {\\pi }{2}}\\left(1+\\left({\\frac {1}{2}}\\right)^{2}m+\\left({\\frac {1\\cdot 3}{2\\cdot 4}}\\right)^{2}m^{2}+\\cdots +\\left({\\frac {\\left(2n-1\\right)!!}{\\left(2n\\right)!!}}\\right)^{2}m^{n}+\\cdots \\right),$$\n",
        "\n",
        "donde $n!!$ es el doble factorial. Grafique y compare estas tres soluciones a la dada por la integral numérica ¿Qué concluye? (Nota: tenga cuidado con $x\\leq 0$, en las series, considere la simetría para esto).\n"
      ]
    },
    {
      "cell_type": "code",
      "execution_count": 137,
      "metadata": {
        "id": "GV0eE8a6Hx7W"
      },
      "outputs": [
        {
          "name": "stdout",
          "output_type": "stream",
          "text": [
            "El potencial en el punto (1.5, 0, 1.0) es 2.1150424857741323\n"
          ]
        },
        {
          "name": "stderr",
          "output_type": "stream",
          "text": [
            "C:\\Users\\User\\AppData\\Local\\Temp\\ipykernel_1900\\1256933139.py:19: RuntimeWarning: invalid value encountered in sqrt\n",
            "  return lambda_2pi_epsilon0 * np.sqrt(a * m(x)) * K(m(x))\n"
          ]
        },
        {
          "data": {
            "image/png": "[encoded data removed]",
            "text/plain": [
              "<Figure size 1000x600 with 1 Axes>"
            ]
          },
          "metadata": {},
          "output_type": "display_data"
        }
      ],
      "source": [
        "from scipy import integrate\n",
        "from scipy.special import legendre\n",
        "\n",
        "# Constantes\n",
        "a = 1.0\n",
        "lambda_2pi_epsilon0 = 1.0\n",
        "z = 1.0\n",
        "\n",
        "# Funciones\n",
        "def m(x):\n",
        "    return 2 / (1 + (z**2 + x**2 + a**2) / (2 * a * x))\n",
        "\n",
        "def K(m):\n",
        "    return integrate.quad(lambda phi: 1 / np.sqrt(1 - m * np.sin(phi)**2), 0, np.pi/2)[0]\n",
        "\n",
        "def V(x):\n",
        "    return lambda_2pi_epsilon0 * np.sqrt(a * m(x)) * K(m(x))\n",
        "\n",
        "def K_series(m, n_terms=100):\n",
        "    return np.pi/2 * np.sum([(legendre(2*n)[0])**2 * m**n for n in range(n_terms)])\n",
        "\n",
        "# a) Potencial en el punto (1.5, 0, 1.0), (z=1.0 puesto arriba)\n",
        "x_point = 1.5\n",
        "V_point = V(x_point)\n",
        "print(f'El potencial en el punto (1.5, 0, 1.0) es {V_point}')\n",
        "\n",
        "# b) Gráfica de la solución para -100 < x < 100\n",
        "x_values = np.arange(-100, 100, 0.01)\n",
        "V_values = np.array([V(x) for x in x_values])\n",
        "\n",
        "plt.figure(figsize=(10, 6))\n",
        "plt.plot(x_values, V_values, label='Solución numérica')\n",
        "plt.title('Potencial en función de x')\n",
        "plt.xlabel('x')\n",
        "plt.ylabel('V')\n",
        "plt.grid(True)\n",
        "plt.legend()\n",
        "plt.show()"
      ]
    },
    {
      "cell_type": "code",
      "execution_count": 123,
      "metadata": {},
      "outputs": [],
      "source": [
        "import numpy as np\n",
        "from scipy.special import legendre\n",
        "\n",
        "def K_analytical(m, n_terms=100):\n",
        "    sum_terms = 0\n",
        "    for n in range(n_terms):\n",
        "        Pn = legendre(2*n)\n",
        "        sum_terms += (Pn(0)**2) * (m**n)\n",
        "    return (np.pi / 2) * sum_terms"
      ]
    },
    {
      "cell_type": "code",
      "execution_count": 124,
      "metadata": {},
      "outputs": [
        {
          "name": "stdout",
          "output_type": "stream",
          "text": [
            "1.8540746773013705\n"
          ]
        },
        {
          "name": "stderr",
          "output_type": "stream",
          "text": [
            "c:\\Users\\User\\AppData\\Local\\Programs\\Python\\Python311\\Lib\\site-packages\\scipy\\special\\_orthogonal.py:2457: RuntimeWarning: overflow encountered in double_scalars\n",
            "  kn = _gam(2 * n + 1) / _gam(n + 1)**2 / 2.0**n\n",
            "c:\\Users\\User\\AppData\\Local\\Programs\\Python\\Python311\\Lib\\site-packages\\scipy\\special\\_orthogonal.py:2457: RuntimeWarning: invalid value encountered in double_scalars\n",
            "  kn = _gam(2 * n + 1) / _gam(n + 1)**2 / 2.0**n\n"
          ]
        }
      ],
      "source": [
        "print(K_analytical(0.5, 100))"
      ]
    },
    {
      "cell_type": "code",
      "execution_count": 138,
      "metadata": {},
      "outputs": [
        {
          "name": "stdout",
          "output_type": "stream",
          "text": [
            "El valor de K(m) en el punto (1.5, 0, 1.0) es 2.324943877132628\n"
          ]
        }
      ],
      "source": [
        "# Función para calcular el doble factorial\n",
        "def double_factorial(n):\n",
        "    if n <= 0:\n",
        "        return 1\n",
        "    else:\n",
        "        return n * double_factorial(n-2)\n",
        "\n",
        "# Función para calcular K(m) usando la serie\n",
        "def K_series(m, n_terms=100):\n",
        "    return np.pi/2 * np.sum([((double_factorial(2*n-1) / double_factorial(2*n))**2) * m**n for n in range(n_terms)])\n",
        "\n",
        "# Calcular el valor de K(m) para el valor de m en el punto de interés\n",
        "m_point = m(x_point)\n",
        "K_point = K_series(m_point)\n",
        "print(f'El valor de K(m) en el punto (1.5, 0, 1.0) es {K_point}')"
      ]
    }
  ],
  "metadata": {
    "colab": {
      "provenance": []
    },
    "kernelspec": {
      "display_name": "Python 3",
      "name": "python3"
    },
    "language_info": {
      "codemirror_mode": {
        "name": "ipython",
        "version": 3
      },
      "file_extension": ".py",
      "mimetype": "text/x-python",
      "name": "python",
      "nbconvert_exporter": "python",
      "pygments_lexer": "ipython3",
      "version": "3.11.2"
    }
  },
  "nbformat": 4,
  "nbformat_minor": 0
}
