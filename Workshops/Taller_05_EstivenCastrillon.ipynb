{
  "cells": [
    {
      "cell_type": "code",
      "execution_count": 74,
      "metadata": {},
      "outputs": [],
      "source": [
        "import numpy as np\n",
        "import matplotlib.pyplot as plt"
      ]
    },
    {
      "cell_type": "markdown",
      "metadata": {
        "id": "InRxl9pGV6Mi"
      },
      "source": [
        "## Unidad 3:\n",
        "\n",
        "### Cálculo Numérico\n",
        "\n",
        "- Integración."
      ]
    },
    {
      "cell_type": "markdown",
      "metadata": {
        "id": "1VwCwGdSjCip"
      },
      "source": [
        "**1** Resolver las siguientes integrales con los métodos propuestos. (Simpson, trapecio impropias)\n",
        "\n",
        "a) $\\int_0^1 \\frac{x^4(1-x)^4}{1+x^2}\\;\\mathrm{d}x=\\frac{22}{7}-\\pi.$\n",
        "\n",
        "b) $\\int_0^\\infty \\frac{x^3}{e^x-1}\\;\\mathrm{d}x=\\frac{\\pi^4}{15}$ (aparece en teoría de Debye para la capacidad calorica en crystales).\n",
        "\n",
        "c) $\\int_0^1 x^{-x}\\;\\mathrm{d}x=\\sum_{n=1}^\\infty n^{-n}$ (conocida como \"Sophomore's dream\").\n",
        "\n",
        "d) $\\int_0^1 [\\ln(1/x)]^p\\;\\mathrm{d}x=p!$ si $0 \\le p \\le 10$.\n",
        "\n",
        "e) $\\int_0^{2\\pi} e^{z\\cos\\theta}\\;\\mathrm{d}\\theta=2\\pi I_0(z)$ (donde $I_0(z)$ es la función de Bessel de primera clase definida en $0 \\le z \\le 2$).\n",
        "\n",
        "f) $\\int _{0}^{\\infty }\\cos t^{2}\\,dt=\\int _{0}^{\\infty }\\sin t^{2}\\,dt={\\sqrt {\\frac {\\pi }{8}}}$.\n",
        "\n",
        "Compare los resultados de los algoritmos dados en este capítulo a los dados por `scipy` o `sympy`.\n",
        "\n",
        "b y f opcional, Bonus de 1pt (pista: hacer metodo de gauss-hermite)"
      ]
    },
    {
      "cell_type": "code",
      "execution_count": 82,
      "metadata": {},
      "outputs": [],
      "source": [
        "# Código del profe\n",
        "def Von_Neumann(f, a, b, N):\n",
        "    # Generar un conjunto de puntos en el intervalo [a, b]\n",
        "    x_points = np.linspace(a, b, num=1000)\n",
        "\n",
        "    # Calcular la función en estos puntos\n",
        "    y_points = f(x_points)\n",
        "\n",
        "    # Tomar el mínimo y el máximo\n",
        "    m = np.min(y_points)\n",
        "    M = np.max(y_points)\n",
        "\n",
        "    Nmax = 0\n",
        "    Nmenos = 0\n",
        "    for i in range(N):\n",
        "       x = np.random.uniform(a, b)\n",
        "       y = np.random.uniform(-m, M)\n",
        "       # punto dentro del área positiva de la integral\n",
        "       if (y > 0) and (y < f(x)): \n",
        "           Nmax += 1\n",
        "       # punto dentro del área negativa de la integral\n",
        "       if (y < 0) and (y > f(x)): \n",
        "           Nmenos += 1\n",
        "\n",
        "    # la integral es el área positiva menos el área negativa\n",
        "    #  y el área del rectángulo es 2W0(b-a).\n",
        "    I = (Nmax - Nmenos) / N * (M + m) * (b - a)\n",
        "\n",
        "    return I\n",
        "\n",
        "# Método de Simpson 3/8 para el cálculo de integrales definidas\n",
        "def Simpson3_8(f, a, b, particiones):\n",
        "   h = (b - a) / particiones\n",
        "   S = f(a) + f(b)\n",
        "   for i in range(1, particiones):  # suma en 1, ..., n-1\n",
        "        x = a + i * h\n",
        "        if i % 3 == 0:\n",
        "            S += 2 * f(x)  # suma de términos donde i es múltiplo de tres\n",
        "        else:\n",
        "            S += 3 * f(x)  # suma de términos donde i no es múltiplo de tres\n",
        "\n",
        "   return S * (3 * h / 8)"
      ]
    },
    {
      "cell_type": "code",
      "execution_count": 79,
      "metadata": {},
      "outputs": [
        {
          "name": "stdout",
          "output_type": "stream",
          "text": [
            "Valor de la integral, literal a) 0.0012644892599587715\n",
            "Valor esperado: 0.0012644892673496777\n",
            "\n",
            "Valor de la integral, literal c) 1.2887634691005994\n",
            "Valor esperado: 1.2912859970626636\n",
            "\n",
            "El valor de la integral, literal e) 7.368555138259445\n",
            "Valor esperado: 2.764919374768337\n",
            "\n"
          ]
        }
      ],
      "source": [
        "# a)\n",
        "a = lambda x: (x**4*(1-x)**4) / (1 + x**2)\n",
        "valor_esperado_a = 22/7 - np.pi\n",
        "print(f'Valor de la integral, literal a) {Simpson3_8(a, 0, 1, 100)}')\n",
        "print(f'Valor esperado: {valor_esperado_a}\\n')\n",
        "\n",
        "# c)\n",
        "c = lambda x: x**(-x)\n",
        "valor_esperado_c = 0\n",
        "for i in range(1, 1000):\n",
        "    valor_esperado_c += i ** (-i)\n",
        "\n",
        "print(f'Valor de la integral, literal c) {Simpson3_8(c, 0, 1, 100)}')\n",
        "print(f'Valor esperado: {valor_esperado_c}\\n')\n",
        "\n",
        "# # d)\n",
        "# from math import factorial\n",
        "# import numpy as np\n",
        "# from math import factorial\n",
        "\n",
        "# for p in range(1, 10):\n",
        "#     d = lambda x: (np.log(1/x))**p\n",
        "\n",
        "#     # Generar un conjunto de puntos en el intervalo [0, 1]\n",
        "#     x_points = np.linspace(0.0001, 1, num=1000)  # Evitamos 0 debido a la división por cero en la función d\n",
        "\n",
        "#     # Calcular la función en estos puntos\n",
        "#     y_points = d(x_points)\n",
        "\n",
        "#     # Tomar el mínimo y el máximo\n",
        "#     m = np.min(y_points)\n",
        "#     M = np.max(y_points)\n",
        "\n",
        "#     print(f'El valor de la integral, literal d) {Von_Neumann(d, 0, 1, m, M, 100)}')\n",
        "#     print(f'Valor esperado: {factorial(p)}\\n')\n",
        "\n",
        "# e)\n",
        "z = 1\n",
        "e = lambda x: np.exp(z * np.cos(x))\n",
        "from scipy.special import jv\n",
        "\n",
        "def funcion_bessel(n, x):\n",
        "    return jv(n, x)\n",
        "valor_esperado_e = 2 * np.pi * funcion_bessel(1, z)\n",
        "print(f'El valor de la integral, literal e) {Von_Neumann(e, 0, 2 * np.pi, 100)}')\n",
        "print(f'Valor esperado: {valor_esperado_e}\\n')"
      ]
    },
    {
      "cell_type": "markdown",
      "metadata": {
        "id": "vt_FyDJGkWij"
      },
      "source": [
        "**2** La [capacidad calorífica](https://es.wikipedia.org/wiki/Capacidad_calor%C3%ADfica) o capacidad térmica de un cuerpo, $C_V$, se define como el cociente entre la cantidad de energía calorífica transferida a un cuerpo y el cambio de temperatura que experimenta, es decir, $C_V$, mide la energía necesaria para aumentar la temperatura de un cuerpo en una unidad de temperatura. Según la teoría de Debye la capacidad calórica es dada por la integral,\n",
        "\n",
        "$$\n",
        "\\frac {C_{V}}{Nk}=9\\left({T \\over T_{\\rm {D}}}\\right)^{3}\\int _{0}^{T_{\\rm {D}}/T}{x^{4}e^{x} \\over \\left(e^{x}-1\\right)^{2}}\\,dx,\n",
        "$$\n",
        "\n",
        "donde $T_D$ es la temperatura de Debye, $k$ es la constate de Bolzmann y $N$ el número de partículas contenidas en el volumen $V$.\n",
        "\n",
        "a) Use los métodos de integración para graficar la capacidad calórica, $C_V/3Nk$, como función de $T/T_D$ en el intervalo $[0,1.5]$.\n",
        "\n",
        "b) Einstein había propuesto inicialmente el modelo,\n",
        "\n",
        "$$\\frac{C_V}{3Nk}=\\left({\\epsilon\\over k T}\\right)^2{e^{\\epsilon/kT}\\over \\left(e^{\\epsilon/kT}-1\\right)^2},$$\n",
        "\n",
        "con energía dada por $\\frac{\\epsilon}{kT_D} = \\frac{\\hbar \\omega}{kT_D} = \\sqrt{3}\\frac{\\pi}{6}=0.805995977$, donde $\\omega$ es definida como la frecuencia del oscilador usado en el modelo de Einstein.\n",
        "Grafique y compare al modelo de Debye."
      ]
    },
    {
      "cell_type": "code",
      "execution_count": 97,
      "metadata": {},
      "outputs": [
        {
          "name": "stderr",
          "output_type": "stream",
          "text": [
            "C:\\Users\\User\\AppData\\Local\\Temp\\ipykernel_3500\\3211825731.py:4: RuntimeWarning: invalid value encountered in double_scalars\n",
            "  return (x**4 * np.exp(x)) / (np.exp(x) - 1)**2\n"
          ]
        },
        {
          "data": {
            "text/plain": [
              "[<matplotlib.lines.Line2D at 0x254e568a3d0>]"
            ]
          },
          "execution_count": 97,
          "metadata": {},
          "output_type": "execute_result"
        },
        {
          "data": {
            "image/png": "[encoded data removed]",
            "text/plain": [
              "<Figure size 640x480 with 1 Axes>"
            ]
          },
          "metadata": {},
          "output_type": "display_data"
        }
      ],
      "source": [
        "def Cv_3Nk_producto(i):\n",
        "    return 9*(i)**3\n",
        "def Cv_3Nk_integral(x):\n",
        "    return (x**4 * np.exp(x)) / (np.exp(x) - 1)**2\n",
        "\n",
        "intervalo = np.linspace(0, 1.5, 1000)\n",
        "y = [Cv_3Nk_producto(i) * Simpson3_8(Cv_3Nk_integral, 0.01, i, 100) for i in intervalo]\n",
        "\n",
        "plt.plot(intervalo, y)"
      ]
    },
    {
      "cell_type": "code",
      "execution_count": 95,
      "metadata": {},
      "outputs": [
        {
          "data": {
            "image/png": "[encoded data removed]",
            "text/plain": [
              "<Figure size 640x480 with 1 Axes>"
            ]
          },
          "metadata": {},
          "output_type": "display_data"
        }
      ],
      "source": [
        "import numpy as np\n",
        "import matplotlib.pyplot as plt\n",
        "\n",
        "# Constants\n",
        "k_B = 1.38e-23  # Boltzmann constant\n",
        "hbar = 1.054e-34  # Reduced Planck's constant\n",
        "omega = np.sqrt(3) * np.pi / 6\n",
        "epsilon = hbar * omega\n",
        "\n",
        "# Debye model function\n",
        "def debye_integrand(x):\n",
        "    return x**4 * np.exp(x) / (np.exp(x) - 1)**2\n",
        "\n",
        "def simpsons_three_eighths_rule(func, a, b, n):\n",
        "    h = (b - a) / n\n",
        "    integral = func(a) + func(b)\n",
        "\n",
        "    for i in range(1, n):\n",
        "        if i % 3 == 0:\n",
        "            integral += 2 * func(a + i * h)\n",
        "        else:\n",
        "            integral += 3 * func(a + i * h)\n",
        "\n",
        "    return 3 * h * integral / 8\n",
        "\n",
        "def debye_model(T_ratio, n=1000):\n",
        "    integral = simpsons_three_eighths_rule(debye_integrand, 0.01, 1/T_ratio, n)\n",
        "    return 9 * T_ratio**3 * integral\n",
        "\n",
        "# Temperature ratios\n",
        "T_ratios = np.linspace(0.01, 1.5, 100)  # Start from 0.01 to avoid division by zero\n",
        "\n",
        "# Calculate heat capacities\n",
        "Cv_debye = np.array([debye_model(T_ratio) for T_ratio in T_ratios])\n",
        "\n",
        "# Plot\n",
        "plt.plot(T_ratios, Cv_debye, label='Debye model')\n",
        "plt.xlabel('T/T_D')\n",
        "plt.ylabel('C_V/3Nk')\n",
        "plt.legend()\n",
        "plt.show()"
      ]
    },
    {
      "cell_type": "markdown",
      "metadata": {
        "id": "xWpnQEWusLmh"
      },
      "source": [
        "**3** **Por librería o elección** En electromagnetismo se puede demostrar que el potencial producido por un anillo de radio $a=1.0$ m en el plano $xy$ con distribución de carga $\\lambda$, en un punto P fuera del eje $z$ es dado por,\n",
        "\n",
        "$$V = \\frac{\\lambda}{2 \\pi \\varepsilon_0}\\sqrt{\\frac{am}{x}} K(m)$$\n",
        "\n",
        "donde,\n",
        "\n",
        "$$m = \\frac{2}{1 + \\frac{z^{2} + x^{2} + a^{2}}{2 a x}},$$\n",
        "\n",
        "y $K(m)$ es la integral elíptica completa de primera especie definida como,\n",
        "\n",
        "$$K(m) = \\int_{0}^{\\pi/2} \\frac{d  \\phi}{\\sqrt{1 - m \\text{sen}^{2}(\\phi)}}$$\n",
        "\n",
        "a) Si  $\\frac{\\lambda}{2\\pi\\varepsilon_0}=1.0$, ¿cuál es el potencial eléctrico en el punto $(x,y,z)=(1.5,0,1.0)$?<br>\n",
        "\n",
        "b) Grafique la solución para el caso en que $-100<x<100$ use pasos de $0.01$. ¿Qué puede concluir de la gráfica?si $z=cte$\n",
        "\n",
        "c) La solución analítica es dada por la serie,\n",
        "\n",
        "$$ K(m)={\\frac {\\pi }{2}}\\sum _{n=0}^{\\infty }\\left({\\frac {(2n)!}{2^{2n}(n!)^{2}}}\\right)^{2}m^{n}={\\frac {\\pi }{2}}\\sum _{n=0}^{\\infty }{\\bigl (}P_{2n}(0){\\bigr )}^{2}m^{n},$$\n",
        "\n",
        "donde y $P_n$ son los [polinomios de Legendre](#MATERIAL_COMPLEMENTARIO). Equivalentemente, también,\n",
        "\n",
        "$$K(m)={\\frac {\\pi }{2}}\\left(1+\\left({\\frac {1}{2}}\\right)^{2}m+\\left({\\frac {1\\cdot 3}{2\\cdot 4}}\\right)^{2}m^{2}+\\cdots +\\left({\\frac {\\left(2n-1\\right)!!}{\\left(2n\\right)!!}}\\right)^{2}m^{n}+\\cdots \\right),$$\n",
        "\n",
        "donde $n!!$ es el doble factorial. Grafique y compare estas tres soluciones a la dada por la integral numérica ¿Qué concluye? (Nota: tenga cuidado con $x\\leq 0$, en las series, considere la simetría para esto).\n"
      ]
    },
    {
      "cell_type": "code",
      "execution_count": null,
      "metadata": {
        "id": "GV0eE8a6Hx7W"
      },
      "outputs": [],
      "source": []
    }
  ],
  "metadata": {
    "colab": {
      "provenance": []
    },
    "kernelspec": {
      "display_name": "Python 3",
      "name": "python3"
    },
    "language_info": {
      "codemirror_mode": {
        "name": "ipython",
        "version": 3
      },
      "file_extension": ".py",
      "mimetype": "text/x-python",
      "name": "python",
      "nbconvert_exporter": "python",
      "pygments_lexer": "ipython3",
      "version": "3.11.2"
    }
  },
  "nbformat": 4,
  "nbformat_minor": 0
}
